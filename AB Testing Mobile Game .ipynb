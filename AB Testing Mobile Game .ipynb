{
 "cells": [
  {
   "cell_type": "markdown",
   "id": "c7cc14a0",
   "metadata": {},
   "source": [
    "<center> <h1 style=\"background-color:Purple; color:white\" >Mobile Games: Player Journey Analysis and A/B Testing</h1> \n",
    "<img\n",
    "src=\"https://i.ytimg.com/vi/LkvnfULq8yQ/maxresdefault.jpg\" style=\"width:70%;height:30%;\">\n",
    "</center>"
   ]
  },
  {
   "cell_type": "markdown",
   "id": "81580389",
   "metadata": {},
   "source": [
    "## <font color='Purple'>Table of Contents </font> \n",
    "\n",
    "1. **[About the Project](#1)**  \n",
    "    1. [Context](#1a)  \n",
    "    2. [Objective](#1b)\n",
    "2. **[About the Data](#2)**  \n",
    "    1. [Missing values](#2a)  \n",
    "    2. [Outliers](#2b)\n",
    "3. **[Player Behavior Insight](#3)**  \n",
    "    1. [Overall](#3a)\n",
    "    2. [Gate 30 & 40 miletones](#3b)\n",
    "4. **[1-day Retention Insight](#4)**\n",
    "5. **[7-day Retention Insight](#5)**\n",
    "6. **[Conclusion](#6)**"
   ]
  },
  {
   "cell_type": "markdown",
   "id": "f37242ce",
   "metadata": {},
   "source": [
    "##  <font color='Purple'> Part 1. About The Project </font><a name= '1'></a>\n",
    "### <font color='Purple'> A. Context </font>  <a name= '1a'></a>"
   ]
  },
  {
   "cell_type": "markdown",
   "id": "400ef951",
   "metadata": {},
   "source": [
    "Tactile Entertainment's Cookie Cats is a popular smartphone puzzle game. By linking the tiles of the same color, players could clear the board and complete the level. Players will have to accomplish each stage to advance to the next level. There are also singing cats featured in the game.\n",
    "\n",
    "<table><tr>\n",
    "<td> <img src=\"https://image.winudf.com/v2/image1/ZGsudGFjdGlsZS5jb29raWVjYXRzX3NjcmVlbl8wXzE1NzM1NzQ5OTNfMDE0/screen-0.jpg?fakeurl=1&type=.webp\" alt=\"Drawing\" style=\"width: 250px;\"/> </td>\n",
    "<td> <img src=\"https://www.dreamfab.com/wp-content/uploads/1-1.png\" alt=\"Drawing\" style=\"width: 330px;\"/> </td>\n",
    "</tr></table>"
   ]
  },
  {
   "cell_type": "markdown",
   "id": "c2a1718d",
   "metadata": {},
   "source": [
    "### <font color='Purple'>B. Objective </font>  <a name= '1b'></a>"
   ]
  },
  {
   "cell_type": "markdown",
   "id": "705c7e7c",
   "metadata": {},
   "source": [
    "AS players accomplish certain stages, they will have to encounter gates that require them to wait sometime before continuing playing. If they want to play immediately, they must make an in-app purchase. \n",
    "\n",
    "We'll analyze the results of an A/B test in which Cookie Cats' first gate was relocated from level 30 to level 40. We'll look at how it affects player retention and player journey in particular.\n",
    "\n",
    "<table><tr>\n",
    "<td> <img src=\"https://mobimg.b-cdn.net/v2/fetch/71/71357cf6ed6d9775d4dccbce9812b12c.jpeg\" alt=\"Drawing\" style=\"width: 250px;\"/> </td>\n",
    "<td> <img src=\"https://play-lh.googleusercontent.com/oMRUuBVCbdSKTFo23WTsDEEscg_hGtKkeFaZ_0vkrABBrVgY5uTgAguupUeYwdinTQg\" alt=\"Drawing\" style=\"width: 275px;\"/> </td>\n",
    "</tr></table>\n"
   ]
  },
  {
   "cell_type": "markdown",
   "id": "4763aa8a",
   "metadata": {},
   "source": [
    "##  <font color='Purple'> Part 2. About The Data </font><a name= '2'></a>\n",
    "### <font color='Purple'> A. Missing values </font>  <a name= '2a'></a>"
   ]
  },
  {
   "cell_type": "code",
   "execution_count": 1,
   "id": "cb4b7175",
   "metadata": {},
   "outputs": [
    {
     "data": {
      "application/javascript": [
       "\n",
       "            setTimeout(function() {\n",
       "                var nbb_cell_id = 1;\n",
       "                var nbb_unformatted_code = \"## libraries\\n%load_ext nb_black\\nimport pandas as pd\\nimport numpy as np\\nimport matplotlib.pyplot as plt\\nimport seaborn as sns\\n\\n%matplotlib inline\\nfrom pandasql import sqldf\";\n",
       "                var nbb_formatted_code = \"## libraries\\n%load_ext nb_black\\nimport pandas as pd\\nimport numpy as np\\nimport matplotlib.pyplot as plt\\nimport seaborn as sns\\n\\n%matplotlib inline\\nfrom pandasql import sqldf\";\n",
       "                var nbb_cells = Jupyter.notebook.get_cells();\n",
       "                for (var i = 0; i < nbb_cells.length; ++i) {\n",
       "                    if (nbb_cells[i].input_prompt_number == nbb_cell_id) {\n",
       "                        if (nbb_cells[i].get_text() == nbb_unformatted_code) {\n",
       "                             nbb_cells[i].set_text(nbb_formatted_code);\n",
       "                        }\n",
       "                        break;\n",
       "                    }\n",
       "                }\n",
       "            }, 500);\n",
       "            "
      ],
      "text/plain": [
       "<IPython.core.display.Javascript object>"
      ]
     },
     "metadata": {},
     "output_type": "display_data"
    }
   ],
   "source": [
    "## libraries\n",
    "%load_ext nb_black\n",
    "import pandas as pd\n",
    "import numpy as np\n",
    "import matplotlib.pyplot as plt\n",
    "import seaborn as sns\n",
    "\n",
    "%matplotlib inline\n",
    "from pandasql import sqldf\n",
    "\n",
    "import warnings\n",
    "warnings.filterwarnings('ignore')"
   ]
  },
  {
   "cell_type": "markdown",
   "id": "a134425f",
   "metadata": {},
   "source": [
    "- The dataset includes information about:  \n",
    "    - **userid**: *unique id of players*\n",
    "    - **version**: *When a player starts the game, he/she will be randomly put in the group whose first purchased gate in stage 30 or stage 40. The field version is used to state that*\n",
    "    - **sum_gamerounds**: *the number of game rounds played by the player during the first week after installation*\n",
    "    - **retention_1**: *return to play 1 day after installing*\n",
    "    - **retention_7**: *return to play 7 days after installing*\n",
    "- Data includes 90189 records with 5 attributes \n",
    "- There are **no missing values** in the dataset\n"
   ]
  },
  {
   "cell_type": "code",
   "execution_count": 2,
   "id": "f4e73a71",
   "metadata": {},
   "outputs": [
    {
     "data": {
      "text/html": [
       "<div>\n",
       "<style scoped>\n",
       "    .dataframe tbody tr th:only-of-type {\n",
       "        vertical-align: middle;\n",
       "    }\n",
       "\n",
       "    .dataframe tbody tr th {\n",
       "        vertical-align: top;\n",
       "    }\n",
       "\n",
       "    .dataframe thead th {\n",
       "        text-align: right;\n",
       "    }\n",
       "</style>\n",
       "<table border=\"1\" class=\"dataframe\">\n",
       "  <thead>\n",
       "    <tr style=\"text-align: right;\">\n",
       "      <th></th>\n",
       "      <th>userid</th>\n",
       "      <th>version</th>\n",
       "      <th>sum_gamerounds</th>\n",
       "      <th>retention_1</th>\n",
       "      <th>retention_7</th>\n",
       "    </tr>\n",
       "  </thead>\n",
       "  <tbody>\n",
       "    <tr>\n",
       "      <th>0</th>\n",
       "      <td>116</td>\n",
       "      <td>gate_30</td>\n",
       "      <td>3</td>\n",
       "      <td>False</td>\n",
       "      <td>False</td>\n",
       "    </tr>\n",
       "    <tr>\n",
       "      <th>1</th>\n",
       "      <td>337</td>\n",
       "      <td>gate_30</td>\n",
       "      <td>38</td>\n",
       "      <td>True</td>\n",
       "      <td>False</td>\n",
       "    </tr>\n",
       "    <tr>\n",
       "      <th>2</th>\n",
       "      <td>377</td>\n",
       "      <td>gate_40</td>\n",
       "      <td>165</td>\n",
       "      <td>True</td>\n",
       "      <td>False</td>\n",
       "    </tr>\n",
       "    <tr>\n",
       "      <th>3</th>\n",
       "      <td>483</td>\n",
       "      <td>gate_40</td>\n",
       "      <td>1</td>\n",
       "      <td>False</td>\n",
       "      <td>False</td>\n",
       "    </tr>\n",
       "    <tr>\n",
       "      <th>4</th>\n",
       "      <td>488</td>\n",
       "      <td>gate_40</td>\n",
       "      <td>179</td>\n",
       "      <td>True</td>\n",
       "      <td>True</td>\n",
       "    </tr>\n",
       "  </tbody>\n",
       "</table>\n",
       "</div>"
      ],
      "text/plain": [
       "   userid  version  sum_gamerounds  retention_1  retention_7\n",
       "0     116  gate_30               3        False        False\n",
       "1     337  gate_30              38         True        False\n",
       "2     377  gate_40             165         True        False\n",
       "3     483  gate_40               1        False        False\n",
       "4     488  gate_40             179         True         True"
      ]
     },
     "execution_count": 2,
     "metadata": {},
     "output_type": "execute_result"
    },
    {
     "data": {
      "application/javascript": [
       "\n",
       "            setTimeout(function() {\n",
       "                var nbb_cell_id = 2;\n",
       "                var nbb_unformatted_code = \"df = pd.read_csv(\\\"D:/Jupyter Notebook/data/cookie_cats.csv\\\")\\ndf.head()\";\n",
       "                var nbb_formatted_code = \"df = pd.read_csv(\\\"D:/Jupyter Notebook/data/cookie_cats.csv\\\")\\ndf.head()\";\n",
       "                var nbb_cells = Jupyter.notebook.get_cells();\n",
       "                for (var i = 0; i < nbb_cells.length; ++i) {\n",
       "                    if (nbb_cells[i].input_prompt_number == nbb_cell_id) {\n",
       "                        if (nbb_cells[i].get_text() == nbb_unformatted_code) {\n",
       "                             nbb_cells[i].set_text(nbb_formatted_code);\n",
       "                        }\n",
       "                        break;\n",
       "                    }\n",
       "                }\n",
       "            }, 500);\n",
       "            "
      ],
      "text/plain": [
       "<IPython.core.display.Javascript object>"
      ]
     },
     "metadata": {},
     "output_type": "display_data"
    }
   ],
   "source": [
    "df = pd.read_csv(\"D:/Jupyter Notebook/data/cookie_cats.csv\")\n",
    "df.head()"
   ]
  },
  {
   "cell_type": "code",
   "execution_count": 3,
   "id": "639e7d86",
   "metadata": {},
   "outputs": [
    {
     "data": {
      "application/javascript": [
       "\n",
       "            setTimeout(function() {\n",
       "                var nbb_cell_id = 3;\n",
       "                var nbb_unformatted_code = \"# Create a function to glimpse the data\\ndef glimpse(df):\\n    print(f\\\"{df.shape[0]} rows and {df.shape[1]} columns\\\")\\n    display(df.head())\\n    df.describe()\\n    df.info()\\n    display(df.describe())\";\n",
       "                var nbb_formatted_code = \"# Create a function to glimpse the data\\ndef glimpse(df):\\n    print(f\\\"{df.shape[0]} rows and {df.shape[1]} columns\\\")\\n    display(df.head())\\n    df.describe()\\n    df.info()\\n    display(df.describe())\";\n",
       "                var nbb_cells = Jupyter.notebook.get_cells();\n",
       "                for (var i = 0; i < nbb_cells.length; ++i) {\n",
       "                    if (nbb_cells[i].input_prompt_number == nbb_cell_id) {\n",
       "                        if (nbb_cells[i].get_text() == nbb_unformatted_code) {\n",
       "                             nbb_cells[i].set_text(nbb_formatted_code);\n",
       "                        }\n",
       "                        break;\n",
       "                    }\n",
       "                }\n",
       "            }, 500);\n",
       "            "
      ],
      "text/plain": [
       "<IPython.core.display.Javascript object>"
      ]
     },
     "metadata": {},
     "output_type": "display_data"
    }
   ],
   "source": [
    "# Create a function to glimpse the data\n",
    "def glimpse(df):\n",
    "    print(f\"{df.shape[0]} rows and {df.shape[1]} columns\")\n",
    "    display(df.head())\n",
    "    df.describe()\n",
    "    df.info()\n",
    "    display(df.describe())"
   ]
  },
  {
   "cell_type": "code",
   "execution_count": 4,
   "id": "756c9dff",
   "metadata": {
    "scrolled": false
   },
   "outputs": [
    {
     "name": "stdout",
     "output_type": "stream",
     "text": [
      "90189 rows and 5 columns\n"
     ]
    },
    {
     "data": {
      "text/html": [
       "<div>\n",
       "<style scoped>\n",
       "    .dataframe tbody tr th:only-of-type {\n",
       "        vertical-align: middle;\n",
       "    }\n",
       "\n",
       "    .dataframe tbody tr th {\n",
       "        vertical-align: top;\n",
       "    }\n",
       "\n",
       "    .dataframe thead th {\n",
       "        text-align: right;\n",
       "    }\n",
       "</style>\n",
       "<table border=\"1\" class=\"dataframe\">\n",
       "  <thead>\n",
       "    <tr style=\"text-align: right;\">\n",
       "      <th></th>\n",
       "      <th>userid</th>\n",
       "      <th>version</th>\n",
       "      <th>sum_gamerounds</th>\n",
       "      <th>retention_1</th>\n",
       "      <th>retention_7</th>\n",
       "    </tr>\n",
       "  </thead>\n",
       "  <tbody>\n",
       "    <tr>\n",
       "      <th>0</th>\n",
       "      <td>116</td>\n",
       "      <td>gate_30</td>\n",
       "      <td>3</td>\n",
       "      <td>False</td>\n",
       "      <td>False</td>\n",
       "    </tr>\n",
       "    <tr>\n",
       "      <th>1</th>\n",
       "      <td>337</td>\n",
       "      <td>gate_30</td>\n",
       "      <td>38</td>\n",
       "      <td>True</td>\n",
       "      <td>False</td>\n",
       "    </tr>\n",
       "    <tr>\n",
       "      <th>2</th>\n",
       "      <td>377</td>\n",
       "      <td>gate_40</td>\n",
       "      <td>165</td>\n",
       "      <td>True</td>\n",
       "      <td>False</td>\n",
       "    </tr>\n",
       "    <tr>\n",
       "      <th>3</th>\n",
       "      <td>483</td>\n",
       "      <td>gate_40</td>\n",
       "      <td>1</td>\n",
       "      <td>False</td>\n",
       "      <td>False</td>\n",
       "    </tr>\n",
       "    <tr>\n",
       "      <th>4</th>\n",
       "      <td>488</td>\n",
       "      <td>gate_40</td>\n",
       "      <td>179</td>\n",
       "      <td>True</td>\n",
       "      <td>True</td>\n",
       "    </tr>\n",
       "  </tbody>\n",
       "</table>\n",
       "</div>"
      ],
      "text/plain": [
       "   userid  version  sum_gamerounds  retention_1  retention_7\n",
       "0     116  gate_30               3        False        False\n",
       "1     337  gate_30              38         True        False\n",
       "2     377  gate_40             165         True        False\n",
       "3     483  gate_40               1        False        False\n",
       "4     488  gate_40             179         True         True"
      ]
     },
     "metadata": {},
     "output_type": "display_data"
    },
    {
     "name": "stdout",
     "output_type": "stream",
     "text": [
      "<class 'pandas.core.frame.DataFrame'>\n",
      "RangeIndex: 90189 entries, 0 to 90188\n",
      "Data columns (total 5 columns):\n",
      " #   Column          Non-Null Count  Dtype \n",
      "---  ------          --------------  ----- \n",
      " 0   userid          90189 non-null  int64 \n",
      " 1   version         90189 non-null  object\n",
      " 2   sum_gamerounds  90189 non-null  int64 \n",
      " 3   retention_1     90189 non-null  bool  \n",
      " 4   retention_7     90189 non-null  bool  \n",
      "dtypes: bool(2), int64(2), object(1)\n",
      "memory usage: 2.2+ MB\n"
     ]
    },
    {
     "data": {
      "text/html": [
       "<div>\n",
       "<style scoped>\n",
       "    .dataframe tbody tr th:only-of-type {\n",
       "        vertical-align: middle;\n",
       "    }\n",
       "\n",
       "    .dataframe tbody tr th {\n",
       "        vertical-align: top;\n",
       "    }\n",
       "\n",
       "    .dataframe thead th {\n",
       "        text-align: right;\n",
       "    }\n",
       "</style>\n",
       "<table border=\"1\" class=\"dataframe\">\n",
       "  <thead>\n",
       "    <tr style=\"text-align: right;\">\n",
       "      <th></th>\n",
       "      <th>userid</th>\n",
       "      <th>sum_gamerounds</th>\n",
       "    </tr>\n",
       "  </thead>\n",
       "  <tbody>\n",
       "    <tr>\n",
       "      <th>count</th>\n",
       "      <td>9.018900e+04</td>\n",
       "      <td>90189.000000</td>\n",
       "    </tr>\n",
       "    <tr>\n",
       "      <th>mean</th>\n",
       "      <td>4.998412e+06</td>\n",
       "      <td>51.872457</td>\n",
       "    </tr>\n",
       "    <tr>\n",
       "      <th>std</th>\n",
       "      <td>2.883286e+06</td>\n",
       "      <td>195.050858</td>\n",
       "    </tr>\n",
       "    <tr>\n",
       "      <th>min</th>\n",
       "      <td>1.160000e+02</td>\n",
       "      <td>0.000000</td>\n",
       "    </tr>\n",
       "    <tr>\n",
       "      <th>25%</th>\n",
       "      <td>2.512230e+06</td>\n",
       "      <td>5.000000</td>\n",
       "    </tr>\n",
       "    <tr>\n",
       "      <th>50%</th>\n",
       "      <td>4.995815e+06</td>\n",
       "      <td>16.000000</td>\n",
       "    </tr>\n",
       "    <tr>\n",
       "      <th>75%</th>\n",
       "      <td>7.496452e+06</td>\n",
       "      <td>51.000000</td>\n",
       "    </tr>\n",
       "    <tr>\n",
       "      <th>max</th>\n",
       "      <td>9.999861e+06</td>\n",
       "      <td>49854.000000</td>\n",
       "    </tr>\n",
       "  </tbody>\n",
       "</table>\n",
       "</div>"
      ],
      "text/plain": [
       "             userid  sum_gamerounds\n",
       "count  9.018900e+04    90189.000000\n",
       "mean   4.998412e+06       51.872457\n",
       "std    2.883286e+06      195.050858\n",
       "min    1.160000e+02        0.000000\n",
       "25%    2.512230e+06        5.000000\n",
       "50%    4.995815e+06       16.000000\n",
       "75%    7.496452e+06       51.000000\n",
       "max    9.999861e+06    49854.000000"
      ]
     },
     "metadata": {},
     "output_type": "display_data"
    },
    {
     "data": {
      "application/javascript": [
       "\n",
       "            setTimeout(function() {\n",
       "                var nbb_cell_id = 4;\n",
       "                var nbb_unformatted_code = \"glimpse(df)\";\n",
       "                var nbb_formatted_code = \"glimpse(df)\";\n",
       "                var nbb_cells = Jupyter.notebook.get_cells();\n",
       "                for (var i = 0; i < nbb_cells.length; ++i) {\n",
       "                    if (nbb_cells[i].input_prompt_number == nbb_cell_id) {\n",
       "                        if (nbb_cells[i].get_text() == nbb_unformatted_code) {\n",
       "                             nbb_cells[i].set_text(nbb_formatted_code);\n",
       "                        }\n",
       "                        break;\n",
       "                    }\n",
       "                }\n",
       "            }, 500);\n",
       "            "
      ],
      "text/plain": [
       "<IPython.core.display.Javascript object>"
      ]
     },
     "metadata": {},
     "output_type": "display_data"
    }
   ],
   "source": [
    "glimpse(df)"
   ]
  },
  {
   "cell_type": "markdown",
   "id": "4045c596",
   "metadata": {},
   "source": [
    "### <font color='Purple'> B. Outliers </font>  <a name= '2b'></a>"
   ]
  },
  {
   "cell_type": "markdown",
   "id": "7d6cfb92",
   "metadata": {},
   "source": [
    "- If examine 2 groups of players separately, I can see that the number of rounds in gate 30 group players has some outliers. The max 'sum_gamerounds' is 49854, while its median is only 16. "
   ]
  },
  {
   "cell_type": "code",
   "execution_count": 5,
   "id": "00542071",
   "metadata": {
    "scrolled": true
   },
   "outputs": [
    {
     "data": {
      "image/png": "[encoded data removed]",
      "text/plain": [
       "<Figure size 1296x360 with 3 Axes>"
      ]
     },
     "metadata": {
      "needs_background": "light"
     },
     "output_type": "display_data"
    },
    {
     "data": {
      "application/javascript": [
       "\n",
       "            setTimeout(function() {\n",
       "                var nbb_cell_id = 5;\n",
       "                var nbb_unformatted_code = \"df1 = df.copy()\\n\\n## Distribution/Histogram of rounds of games played by 2 groups in separte groups.\\nfig, axes = plt.subplots(1, 3, figsize=(18, 5))\\ndf[(df.version == \\\"gate_30\\\")].hist(\\\"sum_gamerounds\\\", ax=axes[0], color=\\\"purple\\\")\\ndf[(df.version == \\\"gate_40\\\")].hist(\\\"sum_gamerounds\\\", ax=axes[1], color=\\\"purple\\\")\\nsns.boxplot(x=df.version, y=df.sum_gamerounds, ax=axes[2])\\n\\nplt.suptitle(\\\"Rounds played in first week for 2 versions\\\", fontsize=20)\\naxes[0].set_title(\\\"Distribution of Gate 30 (A)\\\", fontsize=15)\\naxes[1].set_title(\\\"Distribution of Gate 40 (B)\\\", fontsize=15)\\naxes[2].set_title(\\\"Distribution of Two Groups\\\", fontsize=15)\\n\\nplt.tight_layout(pad=4)\";\n",
       "                var nbb_formatted_code = \"df1 = df.copy()\\n\\n## Distribution/Histogram of rounds of games played by 2 groups in separte groups.\\nfig, axes = plt.subplots(1, 3, figsize=(18, 5))\\ndf[(df.version == \\\"gate_30\\\")].hist(\\\"sum_gamerounds\\\", ax=axes[0], color=\\\"purple\\\")\\ndf[(df.version == \\\"gate_40\\\")].hist(\\\"sum_gamerounds\\\", ax=axes[1], color=\\\"purple\\\")\\nsns.boxplot(x=df.version, y=df.sum_gamerounds, ax=axes[2])\\n\\nplt.suptitle(\\\"Rounds played in first week for 2 versions\\\", fontsize=20)\\naxes[0].set_title(\\\"Distribution of Gate 30 (A)\\\", fontsize=15)\\naxes[1].set_title(\\\"Distribution of Gate 40 (B)\\\", fontsize=15)\\naxes[2].set_title(\\\"Distribution of Two Groups\\\", fontsize=15)\\n\\nplt.tight_layout(pad=4)\";\n",
       "                var nbb_cells = Jupyter.notebook.get_cells();\n",
       "                for (var i = 0; i < nbb_cells.length; ++i) {\n",
       "                    if (nbb_cells[i].input_prompt_number == nbb_cell_id) {\n",
       "                        if (nbb_cells[i].get_text() == nbb_unformatted_code) {\n",
       "                             nbb_cells[i].set_text(nbb_formatted_code);\n",
       "                        }\n",
       "                        break;\n",
       "                    }\n",
       "                }\n",
       "            }, 500);\n",
       "            "
      ],
      "text/plain": [
       "<IPython.core.display.Javascript object>"
      ]
     },
     "metadata": {},
     "output_type": "display_data"
    }
   ],
   "source": [
    "df1 = df.copy()\n",
    "\n",
    "## Distribution/Histogram of rounds of games played by 2 groups in separte groups.\n",
    "fig, axes = plt.subplots(1, 3, figsize=(18, 5))\n",
    "df[(df.version == \"gate_30\")].hist(\"sum_gamerounds\", ax=axes[0], color=\"purple\")\n",
    "df[(df.version == \"gate_40\")].hist(\"sum_gamerounds\", ax=axes[1], color=\"purple\")\n",
    "sns.boxplot(x=df.version, y=df.sum_gamerounds, ax=axes[2])\n",
    "\n",
    "plt.suptitle(\"Rounds played in first week for 2 versions\", fontsize=20)\n",
    "axes[0].set_title(\"Distribution of Gate 30 (A)\", fontsize=15)\n",
    "axes[1].set_title(\"Distribution of Gate 40 (B)\", fontsize=15)\n",
    "axes[2].set_title(\"Distribution of Two Groups\", fontsize=15)\n",
    "\n",
    "plt.tight_layout(pad=4)"
   ]
  },
  {
   "cell_type": "code",
   "execution_count": 6,
   "id": "146346bf",
   "metadata": {},
   "outputs": [
    {
     "data": {
      "text/plain": [
       "<AxesSubplot:xlabel='index'>"
      ]
     },
     "execution_count": 6,
     "metadata": {},
     "output_type": "execute_result"
    },
    {
     "data": {
      "image/png": "[encoded data removed]",
      "text/plain": [
       "<Figure size 1440x576 with 1 Axes>"
      ]
     },
     "metadata": {
      "needs_background": "light"
     },
     "output_type": "display_data"
    },
    {
     "data": {
      "application/javascript": [
       "\n",
       "            setTimeout(function() {\n",
       "                var nbb_cell_id = 6;\n",
       "                var nbb_unformatted_code = \"##Histogram of 2 groups in a plot with ou##tliers\\ndf1[df1.version == \\\"gate_30\\\"].reset_index().set_index(\\\"index\\\").sum_gamerounds.plot(\\n    legend=True, label=\\\"Gate 30\\\", color=\\\"purple\\\", figsize=(20, 8)\\n)\\ndf1[df1.version == \\\"gate_40\\\"].reset_index().set_index(\\\"index\\\").sum_gamerounds.plot(\\n    legend=True, label=\\\"Gate 40\\\", color=\\\"pink\\\"\\n)\";\n",
       "                var nbb_formatted_code = \"##Histogram of 2 groups in a plot with ou##tliers\\ndf1[df1.version == \\\"gate_30\\\"].reset_index().set_index(\\\"index\\\").sum_gamerounds.plot(\\n    legend=True, label=\\\"Gate 30\\\", color=\\\"purple\\\", figsize=(20, 8)\\n)\\ndf1[df1.version == \\\"gate_40\\\"].reset_index().set_index(\\\"index\\\").sum_gamerounds.plot(\\n    legend=True, label=\\\"Gate 40\\\", color=\\\"pink\\\"\\n)\";\n",
       "                var nbb_cells = Jupyter.notebook.get_cells();\n",
       "                for (var i = 0; i < nbb_cells.length; ++i) {\n",
       "                    if (nbb_cells[i].input_prompt_number == nbb_cell_id) {\n",
       "                        if (nbb_cells[i].get_text() == nbb_unformatted_code) {\n",
       "                             nbb_cells[i].set_text(nbb_formatted_code);\n",
       "                        }\n",
       "                        break;\n",
       "                    }\n",
       "                }\n",
       "            }, 500);\n",
       "            "
      ],
      "text/plain": [
       "<IPython.core.display.Javascript object>"
      ]
     },
     "metadata": {},
     "output_type": "display_data"
    }
   ],
   "source": [
    "##Histogram of 2 groups in a plot with ou##tliers\n",
    "df1[df1.version == \"gate_30\"].reset_index().set_index(\"index\").sum_gamerounds.plot(\n",
    "    legend=True, label=\"Gate 30\", color=\"purple\", figsize=(20, 8)\n",
    ")\n",
    "df1[df1.version == \"gate_40\"].reset_index().set_index(\"index\").sum_gamerounds.plot(\n",
    "    legend=True, label=\"Gate 40\", color=\"pink\"\n",
    ")"
   ]
  },
  {
   "cell_type": "code",
   "execution_count": 7,
   "id": "fbd1c3ba",
   "metadata": {},
   "outputs": [
    {
     "data": {
      "application/javascript": [
       "\n",
       "            setTimeout(function() {\n",
       "                var nbb_cell_id = 7;\n",
       "                var nbb_unformatted_code = \"## drop the outliers\\ndf2 = df1.drop(\\n    df1[\\n        (df1.version == \\\"gate_30\\\") & (df1.sum_gamerounds == max(df1.sum_gamerounds))\\n    ].index\\n)\";\n",
       "                var nbb_formatted_code = \"## drop the outliers\\ndf2 = df1.drop(\\n    df1[\\n        (df1.version == \\\"gate_30\\\") & (df1.sum_gamerounds == max(df1.sum_gamerounds))\\n    ].index\\n)\";\n",
       "                var nbb_cells = Jupyter.notebook.get_cells();\n",
       "                for (var i = 0; i < nbb_cells.length; ++i) {\n",
       "                    if (nbb_cells[i].input_prompt_number == nbb_cell_id) {\n",
       "                        if (nbb_cells[i].get_text() == nbb_unformatted_code) {\n",
       "                             nbb_cells[i].set_text(nbb_formatted_code);\n",
       "                        }\n",
       "                        break;\n",
       "                    }\n",
       "                }\n",
       "            }, 500);\n",
       "            "
      ],
      "text/plain": [
       "<IPython.core.display.Javascript object>"
      ]
     },
     "metadata": {},
     "output_type": "display_data"
    }
   ],
   "source": [
    "## drop the outliers\n",
    "df2 = df1.drop(\n",
    "    df1[\n",
    "        (df1.version == \"gate_30\") & (df1.sum_gamerounds == max(df1.sum_gamerounds))\n",
    "    ].index\n",
    ")"
   ]
  },
  {
   "cell_type": "code",
   "execution_count": 8,
   "id": "86f4104d",
   "metadata": {},
   "outputs": [
    {
     "data": {
      "text/plain": [
       "<AxesSubplot:xlabel='index'>"
      ]
     },
     "execution_count": 8,
     "metadata": {},
     "output_type": "execute_result"
    },
    {
     "data": {
      "image/png": "[encoded data removed]",
      "text/plain": [
       "<Figure size 1440x576 with 1 Axes>"
      ]
     },
     "metadata": {
      "needs_background": "light"
     },
     "output_type": "display_data"
    },
    {
     "data": {
      "application/javascript": [
       "\n",
       "            setTimeout(function() {\n",
       "                var nbb_cell_id = 8;\n",
       "                var nbb_unformatted_code = \"## Histogram after dropping the outliers\\ndf2[df2.version == \\\"gate_30\\\"].reset_index().set_index(\\\"index\\\").sum_gamerounds.plot(\\n    legend=True, label=\\\"Gate 30\\\", color=\\\"purple\\\", figsize=(20, 8)\\n)\\ndf2[df2.version == \\\"gate_40\\\"].reset_index().set_index(\\\"index\\\").sum_gamerounds.plot(\\n    legend=True, label=\\\"Gate 40\\\", color=\\\"pink\\\"\\n)\";\n",
       "                var nbb_formatted_code = \"## Histogram after dropping the outliers\\ndf2[df2.version == \\\"gate_30\\\"].reset_index().set_index(\\\"index\\\").sum_gamerounds.plot(\\n    legend=True, label=\\\"Gate 30\\\", color=\\\"purple\\\", figsize=(20, 8)\\n)\\ndf2[df2.version == \\\"gate_40\\\"].reset_index().set_index(\\\"index\\\").sum_gamerounds.plot(\\n    legend=True, label=\\\"Gate 40\\\", color=\\\"pink\\\"\\n)\";\n",
       "                var nbb_cells = Jupyter.notebook.get_cells();\n",
       "                for (var i = 0; i < nbb_cells.length; ++i) {\n",
       "                    if (nbb_cells[i].input_prompt_number == nbb_cell_id) {\n",
       "                        if (nbb_cells[i].get_text() == nbb_unformatted_code) {\n",
       "                             nbb_cells[i].set_text(nbb_formatted_code);\n",
       "                        }\n",
       "                        break;\n",
       "                    }\n",
       "                }\n",
       "            }, 500);\n",
       "            "
      ],
      "text/plain": [
       "<IPython.core.display.Javascript object>"
      ]
     },
     "metadata": {},
     "output_type": "display_data"
    }
   ],
   "source": [
    "## Histogram after dropping the outliers\n",
    "df2[df2.version == \"gate_30\"].reset_index().set_index(\"index\").sum_gamerounds.plot(\n",
    "    legend=True, label=\"Gate 30\", color=\"purple\", figsize=(20, 8)\n",
    ")\n",
    "df2[df2.version == \"gate_40\"].reset_index().set_index(\"index\").sum_gamerounds.plot(\n",
    "    legend=True, label=\"Gate 40\", color=\"pink\"\n",
    ")"
   ]
  },
  {
   "cell_type": "markdown",
   "id": "a62ca567",
   "metadata": {},
   "source": [
    "## <font color='Purple'> Part 3. Player Behavior Insight </font>  <a name= '3'></a>  \n",
    "### <font color='Purple'>A. Overall </font>  <a name= '3a'></a>  "
   ]
  },
  {
   "cell_type": "code",
   "execution_count": 9,
   "id": "3e64edb4",
   "metadata": {},
   "outputs": [
    {
     "data": {
      "text/html": [
       "<div>\n",
       "<style scoped>\n",
       "    .dataframe tbody tr th:only-of-type {\n",
       "        vertical-align: middle;\n",
       "    }\n",
       "\n",
       "    .dataframe tbody tr th {\n",
       "        vertical-align: top;\n",
       "    }\n",
       "\n",
       "    .dataframe thead th {\n",
       "        text-align: right;\n",
       "    }\n",
       "</style>\n",
       "<table border=\"1\" class=\"dataframe\">\n",
       "  <thead>\n",
       "    <tr style=\"text-align: right;\">\n",
       "      <th></th>\n",
       "      <th>count</th>\n",
       "      <th>mean</th>\n",
       "      <th>std</th>\n",
       "      <th>min</th>\n",
       "      <th>1%</th>\n",
       "      <th>5%</th>\n",
       "      <th>10%</th>\n",
       "      <th>20%</th>\n",
       "      <th>50%</th>\n",
       "      <th>80%</th>\n",
       "      <th>90%</th>\n",
       "      <th>95%</th>\n",
       "      <th>99%</th>\n",
       "      <th>max</th>\n",
       "    </tr>\n",
       "  </thead>\n",
       "  <tbody>\n",
       "    <tr>\n",
       "      <th>sum_gamerounds</th>\n",
       "      <td>90188.0</td>\n",
       "      <td>51.320253</td>\n",
       "      <td>102.682719</td>\n",
       "      <td>0.0</td>\n",
       "      <td>0.0</td>\n",
       "      <td>1.0</td>\n",
       "      <td>1.0</td>\n",
       "      <td>3.0</td>\n",
       "      <td>16.0</td>\n",
       "      <td>67.0</td>\n",
       "      <td>134.0</td>\n",
       "      <td>221.0</td>\n",
       "      <td>493.0</td>\n",
       "      <td>2961.0</td>\n",
       "    </tr>\n",
       "  </tbody>\n",
       "</table>\n",
       "</div>"
      ],
      "text/plain": [
       "                  count       mean         std  min   1%   5%  10%  20%   50%  \\\n",
       "sum_gamerounds  90188.0  51.320253  102.682719  0.0  0.0  1.0  1.0  3.0  16.0   \n",
       "\n",
       "                 80%    90%    95%    99%     max  \n",
       "sum_gamerounds  67.0  134.0  221.0  493.0  2961.0  "
      ]
     },
     "execution_count": 9,
     "metadata": {},
     "output_type": "execute_result"
    },
    {
     "data": {
      "application/javascript": [
       "\n",
       "            setTimeout(function() {\n",
       "                var nbb_cell_id = 9;\n",
       "                var nbb_unformatted_code = \"df2.describe([0.01, 0.05, 0.10, 0.20, 0.80, 0.90, 0.95, 0.99])[[\\\"sum_gamerounds\\\"]].T\";\n",
       "                var nbb_formatted_code = \"df2.describe([0.01, 0.05, 0.10, 0.20, 0.80, 0.90, 0.95, 0.99])[[\\\"sum_gamerounds\\\"]].T\";\n",
       "                var nbb_cells = Jupyter.notebook.get_cells();\n",
       "                for (var i = 0; i < nbb_cells.length; ++i) {\n",
       "                    if (nbb_cells[i].input_prompt_number == nbb_cell_id) {\n",
       "                        if (nbb_cells[i].get_text() == nbb_unformatted_code) {\n",
       "                             nbb_cells[i].set_text(nbb_formatted_code);\n",
       "                        }\n",
       "                        break;\n",
       "                    }\n",
       "                }\n",
       "            }, 500);\n",
       "            "
      ],
      "text/plain": [
       "<IPython.core.display.Javascript object>"
      ]
     },
     "metadata": {},
     "output_type": "display_data"
    }
   ],
   "source": [
    "df2.describe([0.01, 0.05, 0.10, 0.20, 0.80, 0.90, 0.95, 0.99])[[\"sum_gamerounds\"]].T"
   ]
  },
  {
   "cell_type": "code",
   "execution_count": 10,
   "id": "2ab54d51",
   "metadata": {},
   "outputs": [
    {
     "name": "stdout",
     "output_type": "stream",
     "text": [
      "% play  0  round(s):  4.428527076772963\n",
      "% play  1  round(s):  6.1405064975384755\n",
      "% play  2  round(s):  5.107109593294008\n"
     ]
    },
    {
     "data": {
      "application/javascript": [
       "\n",
       "            setTimeout(function() {\n",
       "                var nbb_cell_id = 10;\n",
       "                var nbb_unformatted_code = \"total_play = []\\nrounds = [0, 1, 2]\\nfor i in rounds:\\n    play_ = (len(df2[df2.sum_gamerounds == i]) / len(df2)) * 100\\n    play_string = print(\\\"% play \\\", i, \\\" round(s): \\\", play_)\\n    total_play.append(play_string)\";\n",
       "                var nbb_formatted_code = \"total_play = []\\nrounds = [0, 1, 2]\\nfor i in rounds:\\n    play_ = (len(df2[df2.sum_gamerounds == i]) / len(df2)) * 100\\n    play_string = print(\\\"% play \\\", i, \\\" round(s): \\\", play_)\\n    total_play.append(play_string)\";\n",
       "                var nbb_cells = Jupyter.notebook.get_cells();\n",
       "                for (var i = 0; i < nbb_cells.length; ++i) {\n",
       "                    if (nbb_cells[i].input_prompt_number == nbb_cell_id) {\n",
       "                        if (nbb_cells[i].get_text() == nbb_unformatted_code) {\n",
       "                             nbb_cells[i].set_text(nbb_formatted_code);\n",
       "                        }\n",
       "                        break;\n",
       "                    }\n",
       "                }\n",
       "            }, 500);\n",
       "            "
      ],
      "text/plain": [
       "<IPython.core.display.Javascript object>"
      ]
     },
     "metadata": {},
     "output_type": "display_data"
    }
   ],
   "source": [
    "total_play = []\n",
    "rounds = [0, 1, 2]\n",
    "for i in rounds:\n",
    "    play_ = (len(df2[df2.sum_gamerounds == i]) / len(df2)) * 100\n",
    "    play_string = print(\"% play \", i, \" round(s): \", play_)\n",
    "    total_play.append(play_string)\n"
   ]
  },
  {
   "cell_type": "markdown",
   "id": "fc10d76a",
   "metadata": {},
   "source": [
    "After installing, in the first week:  \n",
    "- **~5%** played more than 200 rounds. We can confirm that these players really enjoy the game.\n",
    "- **~4.4%** just installed the game and did **not play any rounds**. Reasons might be:  \n",
    "    - They downloaded many games at the same time, and they were more interested in other ones more. \n",
    "    - They opened the games but the design or music did not meet their expectations. So, they quit before starting the games (If we have the data about game delete after installing, we can confirm this assumption)\n",
    "    - They downloaded and did not have time to start it yet, saved it for spare time. \n",
    "- **~15%** played **fewer than 3 rounds in 1 week** after installation. Reasons might be: \n",
    "    - Players tried the games but they did not interested. So they rarely played the games or they can drop after. (Looking at the data after 7 days, if they did not return, it means they churned and the game was not their interest)  \n",
    "    - Players tried some rounds at a time to entertain (Looking at the data after 7 days, if they returned, it means that our assumption might be correct)\n",
    "    - The game might too easy so they got bored easily\n",
    "<br>\n",
    "\n",
    "**Overall, as 4.4% players did not played the games and about 15% players rarely play the game in the first week after installation, company should conduct research on question why did players drop or not engage in the games at the early stage. In-app survey question can be a good option to consider to collect feedback.**\n",
    "\n",
    "\n"
   ]
  },
  {
   "cell_type": "code",
   "execution_count": 11,
   "id": "acf3f309",
   "metadata": {},
   "outputs": [
    {
     "data": {
      "text/html": [
       "<div>\n",
       "<style scoped>\n",
       "    .dataframe tbody tr th:only-of-type {\n",
       "        vertical-align: middle;\n",
       "    }\n",
       "\n",
       "    .dataframe tbody tr th {\n",
       "        vertical-align: top;\n",
       "    }\n",
       "\n",
       "    .dataframe thead th {\n",
       "        text-align: right;\n",
       "    }\n",
       "</style>\n",
       "<table border=\"1\" class=\"dataframe\">\n",
       "  <thead>\n",
       "    <tr style=\"text-align: right;\">\n",
       "      <th></th>\n",
       "      <th>sum_gamerounds</th>\n",
       "      <th>Total_Players</th>\n",
       "    </tr>\n",
       "  </thead>\n",
       "  <tbody>\n",
       "    <tr>\n",
       "      <th>0</th>\n",
       "      <td>0</td>\n",
       "      <td>3994</td>\n",
       "    </tr>\n",
       "    <tr>\n",
       "      <th>1</th>\n",
       "      <td>1</td>\n",
       "      <td>5538</td>\n",
       "    </tr>\n",
       "    <tr>\n",
       "      <th>2</th>\n",
       "      <td>2</td>\n",
       "      <td>4606</td>\n",
       "    </tr>\n",
       "    <tr>\n",
       "      <th>3</th>\n",
       "      <td>3</td>\n",
       "      <td>3958</td>\n",
       "    </tr>\n",
       "    <tr>\n",
       "      <th>4</th>\n",
       "      <td>4</td>\n",
       "      <td>3629</td>\n",
       "    </tr>\n",
       "    <tr>\n",
       "      <th>...</th>\n",
       "      <td>...</td>\n",
       "      <td>...</td>\n",
       "    </tr>\n",
       "    <tr>\n",
       "      <th>936</th>\n",
       "      <td>2251</td>\n",
       "      <td>1</td>\n",
       "    </tr>\n",
       "    <tr>\n",
       "      <th>937</th>\n",
       "      <td>2294</td>\n",
       "      <td>1</td>\n",
       "    </tr>\n",
       "    <tr>\n",
       "      <th>938</th>\n",
       "      <td>2438</td>\n",
       "      <td>1</td>\n",
       "    </tr>\n",
       "    <tr>\n",
       "      <th>939</th>\n",
       "      <td>2640</td>\n",
       "      <td>1</td>\n",
       "    </tr>\n",
       "    <tr>\n",
       "      <th>940</th>\n",
       "      <td>2961</td>\n",
       "      <td>1</td>\n",
       "    </tr>\n",
       "  </tbody>\n",
       "</table>\n",
       "<p>941 rows × 2 columns</p>\n",
       "</div>"
      ],
      "text/plain": [
       "     sum_gamerounds  Total_Players\n",
       "0                 0           3994\n",
       "1                 1           5538\n",
       "2                 2           4606\n",
       "3                 3           3958\n",
       "4                 4           3629\n",
       "..              ...            ...\n",
       "936            2251              1\n",
       "937            2294              1\n",
       "938            2438              1\n",
       "939            2640              1\n",
       "940            2961              1\n",
       "\n",
       "[941 rows x 2 columns]"
      ]
     },
     "execution_count": 11,
     "metadata": {},
     "output_type": "execute_result"
    },
    {
     "data": {
      "application/javascript": [
       "\n",
       "            setTimeout(function() {\n",
       "                var nbb_cell_id = 11;\n",
       "                var nbb_unformatted_code = \"## How many players for each total round? \\n\\ndf3 = (\\n    df2.groupby(\\\"sum_gamerounds\\\")\\n    .agg({\\\"userid\\\": \\\"nunique\\\"})\\n    .rename({\\\"sum_gamerounds\\\": \\\"Total_Rounds\\\", \\\"userid\\\": \\\"Total_Players\\\"}, axis=1)\\n    .reset_index()\\n)\\n\\ndf3\";\n",
       "                var nbb_formatted_code = \"## How many players for each total round?\\n\\ndf3 = (\\n    df2.groupby(\\\"sum_gamerounds\\\")\\n    .agg({\\\"userid\\\": \\\"nunique\\\"})\\n    .rename({\\\"sum_gamerounds\\\": \\\"Total_Rounds\\\", \\\"userid\\\": \\\"Total_Players\\\"}, axis=1)\\n    .reset_index()\\n)\\n\\ndf3\";\n",
       "                var nbb_cells = Jupyter.notebook.get_cells();\n",
       "                for (var i = 0; i < nbb_cells.length; ++i) {\n",
       "                    if (nbb_cells[i].input_prompt_number == nbb_cell_id) {\n",
       "                        if (nbb_cells[i].get_text() == nbb_unformatted_code) {\n",
       "                             nbb_cells[i].set_text(nbb_formatted_code);\n",
       "                        }\n",
       "                        break;\n",
       "                    }\n",
       "                }\n",
       "            }, 500);\n",
       "            "
      ],
      "text/plain": [
       "<IPython.core.display.Javascript object>"
      ]
     },
     "metadata": {},
     "output_type": "display_data"
    }
   ],
   "source": [
    "## How many players for each total round?\n",
    "\n",
    "df3 = (\n",
    "    df2.groupby(\"sum_gamerounds\")\n",
    "    .agg({\"userid\": \"nunique\"})\n",
    "    .rename({\"sum_gamerounds\": \"Total_Rounds\", \"userid\": \"Total_Players\"}, axis=1)\n",
    "    .reset_index()\n",
    ")\n",
    "\n",
    "df3"
   ]
  },
  {
   "cell_type": "code",
   "execution_count": 12,
   "id": "b799a184",
   "metadata": {},
   "outputs": [
    {
     "data": {
      "application/javascript": [
       "\n",
       "            setTimeout(function() {\n",
       "                var nbb_cell_id = 12;\n",
       "                var nbb_unformatted_code = \"query = \\\"\\\"\\\"\\nSELECT *,  previous_round - Total_Players as decrease_gap from \\n(SELECT *, \\n       LAG(Total_Players, 1) OVER(\\n       ORDER BY sum_gamerounds, Total_Players ASC) AS previous_round\\nFROM df3)\\nwhere sum_gamerounds > 1\\\"\\\"\\\"\";\n",
       "                var nbb_formatted_code = \"query = \\\"\\\"\\\"\\nSELECT *,  previous_round - Total_Players as decrease_gap from \\n(SELECT *, \\n       LAG(Total_Players, 1) OVER(\\n       ORDER BY sum_gamerounds, Total_Players ASC) AS previous_round\\nFROM df3)\\nwhere sum_gamerounds > 1\\\"\\\"\\\"\";\n",
       "                var nbb_cells = Jupyter.notebook.get_cells();\n",
       "                for (var i = 0; i < nbb_cells.length; ++i) {\n",
       "                    if (nbb_cells[i].input_prompt_number == nbb_cell_id) {\n",
       "                        if (nbb_cells[i].get_text() == nbb_unformatted_code) {\n",
       "                             nbb_cells[i].set_text(nbb_formatted_code);\n",
       "                        }\n",
       "                        break;\n",
       "                    }\n",
       "                }\n",
       "            }, 500);\n",
       "            "
      ],
      "text/plain": [
       "<IPython.core.display.Javascript object>"
      ]
     },
     "metadata": {},
     "output_type": "display_data"
    }
   ],
   "source": [
    "query = \"\"\"\n",
    "SELECT *,  previous_round - Total_Players as decrease_gap from \n",
    "(SELECT *, \n",
    "       LAG(Total_Players, 1) OVER(\n",
    "       ORDER BY sum_gamerounds, Total_Players ASC) AS previous_round\n",
    "FROM df3)\n",
    "where sum_gamerounds > 1\"\"\""
   ]
  },
  {
   "cell_type": "code",
   "execution_count": 13,
   "id": "481053c4",
   "metadata": {},
   "outputs": [
    {
     "data": {
      "application/javascript": [
       "\n",
       "            setTimeout(function() {\n",
       "                var nbb_cell_id = 13;\n",
       "                var nbb_unformatted_code = \"## How many players decrease after each round?\\ngap = sqldf(query)\\n\\n## % decrease compared to last round\\ngap[\\\"% decrease\\\"] = ((gap[\\\"decrease_gap\\\"] / gap[\\\"previous_round\\\"]) * 100).round(2)\";\n",
       "                var nbb_formatted_code = \"## How many players decrease after each round?\\ngap = sqldf(query)\\n\\n## % decrease compared to last round\\ngap[\\\"% decrease\\\"] = ((gap[\\\"decrease_gap\\\"] / gap[\\\"previous_round\\\"]) * 100).round(2)\";\n",
       "                var nbb_cells = Jupyter.notebook.get_cells();\n",
       "                for (var i = 0; i < nbb_cells.length; ++i) {\n",
       "                    if (nbb_cells[i].input_prompt_number == nbb_cell_id) {\n",
       "                        if (nbb_cells[i].get_text() == nbb_unformatted_code) {\n",
       "                             nbb_cells[i].set_text(nbb_formatted_code);\n",
       "                        }\n",
       "                        break;\n",
       "                    }\n",
       "                }\n",
       "            }, 500);\n",
       "            "
      ],
      "text/plain": [
       "<IPython.core.display.Javascript object>"
      ]
     },
     "metadata": {},
     "output_type": "display_data"
    }
   ],
   "source": [
    "## How many players decrease after each round?\n",
    "gap = sqldf(query)\n",
    "\n",
    "## % decrease compared to last round\n",
    "gap[\"% decrease\"] = ((gap[\"decrease_gap\"] / gap[\"previous_round\"]) * 100).round(2)"
   ]
  },
  {
   "cell_type": "code",
   "execution_count": 14,
   "id": "8b0bf800",
   "metadata": {},
   "outputs": [
    {
     "data": {
      "text/html": [
       "<div>\n",
       "<style scoped>\n",
       "    .dataframe tbody tr th:only-of-type {\n",
       "        vertical-align: middle;\n",
       "    }\n",
       "\n",
       "    .dataframe tbody tr th {\n",
       "        vertical-align: top;\n",
       "    }\n",
       "\n",
       "    .dataframe thead th {\n",
       "        text-align: right;\n",
       "    }\n",
       "</style>\n",
       "<table border=\"1\" class=\"dataframe\">\n",
       "  <thead>\n",
       "    <tr style=\"text-align: right;\">\n",
       "      <th></th>\n",
       "      <th>sum_gamerounds</th>\n",
       "      <th>Total_Players</th>\n",
       "      <th>previous_round</th>\n",
       "      <th>decrease_gap</th>\n",
       "      <th>% decrease</th>\n",
       "      <th>% remaining</th>\n",
       "    </tr>\n",
       "  </thead>\n",
       "  <tbody>\n",
       "    <tr>\n",
       "      <th>0</th>\n",
       "      <td>2</td>\n",
       "      <td>4606</td>\n",
       "      <td>5538</td>\n",
       "      <td>932</td>\n",
       "      <td>16.83</td>\n",
       "      <td>83.17</td>\n",
       "    </tr>\n",
       "    <tr>\n",
       "      <th>1</th>\n",
       "      <td>3</td>\n",
       "      <td>3958</td>\n",
       "      <td>4606</td>\n",
       "      <td>648</td>\n",
       "      <td>14.07</td>\n",
       "      <td>71.47</td>\n",
       "    </tr>\n",
       "    <tr>\n",
       "      <th>2</th>\n",
       "      <td>4</td>\n",
       "      <td>3629</td>\n",
       "      <td>3958</td>\n",
       "      <td>329</td>\n",
       "      <td>8.31</td>\n",
       "      <td>65.53</td>\n",
       "    </tr>\n",
       "    <tr>\n",
       "      <th>3</th>\n",
       "      <td>5</td>\n",
       "      <td>2992</td>\n",
       "      <td>3629</td>\n",
       "      <td>637</td>\n",
       "      <td>17.55</td>\n",
       "      <td>54.03</td>\n",
       "    </tr>\n",
       "    <tr>\n",
       "      <th>4</th>\n",
       "      <td>6</td>\n",
       "      <td>2861</td>\n",
       "      <td>2992</td>\n",
       "      <td>131</td>\n",
       "      <td>4.38</td>\n",
       "      <td>51.66</td>\n",
       "    </tr>\n",
       "    <tr>\n",
       "      <th>...</th>\n",
       "      <td>...</td>\n",
       "      <td>...</td>\n",
       "      <td>...</td>\n",
       "      <td>...</td>\n",
       "      <td>...</td>\n",
       "      <td>...</td>\n",
       "    </tr>\n",
       "    <tr>\n",
       "      <th>934</th>\n",
       "      <td>2251</td>\n",
       "      <td>1</td>\n",
       "      <td>1</td>\n",
       "      <td>0</td>\n",
       "      <td>0.00</td>\n",
       "      <td>0.02</td>\n",
       "    </tr>\n",
       "    <tr>\n",
       "      <th>935</th>\n",
       "      <td>2294</td>\n",
       "      <td>1</td>\n",
       "      <td>1</td>\n",
       "      <td>0</td>\n",
       "      <td>0.00</td>\n",
       "      <td>0.02</td>\n",
       "    </tr>\n",
       "    <tr>\n",
       "      <th>936</th>\n",
       "      <td>2438</td>\n",
       "      <td>1</td>\n",
       "      <td>1</td>\n",
       "      <td>0</td>\n",
       "      <td>0.00</td>\n",
       "      <td>0.02</td>\n",
       "    </tr>\n",
       "    <tr>\n",
       "      <th>937</th>\n",
       "      <td>2640</td>\n",
       "      <td>1</td>\n",
       "      <td>1</td>\n",
       "      <td>0</td>\n",
       "      <td>0.00</td>\n",
       "      <td>0.02</td>\n",
       "    </tr>\n",
       "    <tr>\n",
       "      <th>938</th>\n",
       "      <td>2961</td>\n",
       "      <td>1</td>\n",
       "      <td>1</td>\n",
       "      <td>0</td>\n",
       "      <td>0.00</td>\n",
       "      <td>0.02</td>\n",
       "    </tr>\n",
       "  </tbody>\n",
       "</table>\n",
       "<p>939 rows × 6 columns</p>\n",
       "</div>"
      ],
      "text/plain": [
       "     sum_gamerounds  Total_Players  previous_round  decrease_gap  % decrease  \\\n",
       "0                 2           4606            5538           932       16.83   \n",
       "1                 3           3958            4606           648       14.07   \n",
       "2                 4           3629            3958           329        8.31   \n",
       "3                 5           2992            3629           637       17.55   \n",
       "4                 6           2861            2992           131        4.38   \n",
       "..              ...            ...             ...           ...         ...   \n",
       "934            2251              1               1             0        0.00   \n",
       "935            2294              1               1             0        0.00   \n",
       "936            2438              1               1             0        0.00   \n",
       "937            2640              1               1             0        0.00   \n",
       "938            2961              1               1             0        0.00   \n",
       "\n",
       "     % remaining  \n",
       "0          83.17  \n",
       "1          71.47  \n",
       "2          65.53  \n",
       "3          54.03  \n",
       "4          51.66  \n",
       "..           ...  \n",
       "934         0.02  \n",
       "935         0.02  \n",
       "936         0.02  \n",
       "937         0.02  \n",
       "938         0.02  \n",
       "\n",
       "[939 rows x 6 columns]"
      ]
     },
     "execution_count": 14,
     "metadata": {},
     "output_type": "execute_result"
    },
    {
     "data": {
      "application/javascript": [
       "\n",
       "            setTimeout(function() {\n",
       "                var nbb_cell_id = 14;\n",
       "                var nbb_unformatted_code = \"## % user remaining compared to the first round\\ngap[\\\"% remaining\\\"] = ((gap[\\\"Total_Players\\\"] / 5538) * 100).round(2)\\ngap\";\n",
       "                var nbb_formatted_code = \"## % user remaining compared to the first round\\ngap[\\\"% remaining\\\"] = ((gap[\\\"Total_Players\\\"] / 5538) * 100).round(2)\\ngap\";\n",
       "                var nbb_cells = Jupyter.notebook.get_cells();\n",
       "                for (var i = 0; i < nbb_cells.length; ++i) {\n",
       "                    if (nbb_cells[i].input_prompt_number == nbb_cell_id) {\n",
       "                        if (nbb_cells[i].get_text() == nbb_unformatted_code) {\n",
       "                             nbb_cells[i].set_text(nbb_formatted_code);\n",
       "                        }\n",
       "                        break;\n",
       "                    }\n",
       "                }\n",
       "            }, 500);\n",
       "            "
      ],
      "text/plain": [
       "<IPython.core.display.Javascript object>"
      ]
     },
     "metadata": {},
     "output_type": "display_data"
    }
   ],
   "source": [
    "## % user remaining compared to the first round\n",
    "gap[\"% remaining\"] = ((gap[\"Total_Players\"] / 5538) * 100).round(2)\n",
    "gap"
   ]
  },
  {
   "cell_type": "code",
   "execution_count": 15,
   "id": "cda176ad",
   "metadata": {},
   "outputs": [
    {
     "data": {
      "application/javascript": [
       "\n",
       "            setTimeout(function() {\n",
       "                var nbb_cell_id = 15;\n",
       "                var nbb_unformatted_code = \"## Top 20 decrease\\ngap_20 = gap.sort_values(\\\"decrease_gap\\\", ascending=False).head(20)\";\n",
       "                var nbb_formatted_code = \"## Top 20 decrease\\ngap_20 = gap.sort_values(\\\"decrease_gap\\\", ascending=False).head(20)\";\n",
       "                var nbb_cells = Jupyter.notebook.get_cells();\n",
       "                for (var i = 0; i < nbb_cells.length; ++i) {\n",
       "                    if (nbb_cells[i].input_prompt_number == nbb_cell_id) {\n",
       "                        if (nbb_cells[i].get_text() == nbb_unformatted_code) {\n",
       "                             nbb_cells[i].set_text(nbb_formatted_code);\n",
       "                        }\n",
       "                        break;\n",
       "                    }\n",
       "                }\n",
       "            }, 500);\n",
       "            "
      ],
      "text/plain": [
       "<IPython.core.display.Javascript object>"
      ]
     },
     "metadata": {},
     "output_type": "display_data"
    }
   ],
   "source": [
    "## Top 20 decrease\n",
    "gap_20 = gap.sort_values(\"decrease_gap\", ascending=False).head(20)"
   ]
  },
  {
   "cell_type": "code",
   "execution_count": 16,
   "id": "8c82ec9a",
   "metadata": {},
   "outputs": [
    {
     "data": {
      "text/html": [
       "<div>\n",
       "<style scoped>\n",
       "    .dataframe tbody tr th:only-of-type {\n",
       "        vertical-align: middle;\n",
       "    }\n",
       "\n",
       "    .dataframe tbody tr th {\n",
       "        vertical-align: top;\n",
       "    }\n",
       "\n",
       "    .dataframe thead th {\n",
       "        text-align: right;\n",
       "    }\n",
       "</style>\n",
       "<table border=\"1\" class=\"dataframe\">\n",
       "  <thead>\n",
       "    <tr style=\"text-align: right;\">\n",
       "      <th></th>\n",
       "      <th>sum_gamerounds</th>\n",
       "      <th>Total_Players</th>\n",
       "      <th>previous_round</th>\n",
       "      <th>decrease_gap</th>\n",
       "      <th>% decrease</th>\n",
       "      <th>% remaining</th>\n",
       "    </tr>\n",
       "  </thead>\n",
       "  <tbody>\n",
       "    <tr>\n",
       "      <th>0</th>\n",
       "      <td>2</td>\n",
       "      <td>4606</td>\n",
       "      <td>5538</td>\n",
       "      <td>932</td>\n",
       "      <td>16.83</td>\n",
       "      <td>83.17</td>\n",
       "    </tr>\n",
       "    <tr>\n",
       "      <th>1</th>\n",
       "      <td>3</td>\n",
       "      <td>3958</td>\n",
       "      <td>4606</td>\n",
       "      <td>648</td>\n",
       "      <td>14.07</td>\n",
       "      <td>71.47</td>\n",
       "    </tr>\n",
       "    <tr>\n",
       "      <th>3</th>\n",
       "      <td>5</td>\n",
       "      <td>2992</td>\n",
       "      <td>3629</td>\n",
       "      <td>637</td>\n",
       "      <td>17.55</td>\n",
       "      <td>54.03</td>\n",
       "    </tr>\n",
       "    <tr>\n",
       "      <th>5</th>\n",
       "      <td>7</td>\n",
       "      <td>2379</td>\n",
       "      <td>2861</td>\n",
       "      <td>482</td>\n",
       "      <td>16.85</td>\n",
       "      <td>42.96</td>\n",
       "    </tr>\n",
       "    <tr>\n",
       "      <th>2</th>\n",
       "      <td>4</td>\n",
       "      <td>3629</td>\n",
       "      <td>3958</td>\n",
       "      <td>329</td>\n",
       "      <td>8.31</td>\n",
       "      <td>65.53</td>\n",
       "    </tr>\n",
       "    <tr>\n",
       "      <th>8</th>\n",
       "      <td>10</td>\n",
       "      <td>1752</td>\n",
       "      <td>2013</td>\n",
       "      <td>261</td>\n",
       "      <td>12.97</td>\n",
       "      <td>31.64</td>\n",
       "    </tr>\n",
       "    <tr>\n",
       "      <th>7</th>\n",
       "      <td>9</td>\n",
       "      <td>2013</td>\n",
       "      <td>2267</td>\n",
       "      <td>254</td>\n",
       "      <td>11.20</td>\n",
       "      <td>36.35</td>\n",
       "    </tr>\n",
       "    <tr>\n",
       "      <th>4</th>\n",
       "      <td>6</td>\n",
       "      <td>2861</td>\n",
       "      <td>2992</td>\n",
       "      <td>131</td>\n",
       "      <td>4.38</td>\n",
       "      <td>51.66</td>\n",
       "    </tr>\n",
       "    <tr>\n",
       "      <th>18</th>\n",
       "      <td>20</td>\n",
       "      <td>1033</td>\n",
       "      <td>1158</td>\n",
       "      <td>125</td>\n",
       "      <td>10.79</td>\n",
       "      <td>18.65</td>\n",
       "    </tr>\n",
       "    <tr>\n",
       "      <th>6</th>\n",
       "      <td>8</td>\n",
       "      <td>2267</td>\n",
       "      <td>2379</td>\n",
       "      <td>112</td>\n",
       "      <td>4.71</td>\n",
       "      <td>40.94</td>\n",
       "    </tr>\n",
       "    <tr>\n",
       "      <th>14</th>\n",
       "      <td>16</td>\n",
       "      <td>1342</td>\n",
       "      <td>1446</td>\n",
       "      <td>104</td>\n",
       "      <td>7.19</td>\n",
       "      <td>24.23</td>\n",
       "    </tr>\n",
       "    <tr>\n",
       "      <th>24</th>\n",
       "      <td>26</td>\n",
       "      <td>689</td>\n",
       "      <td>792</td>\n",
       "      <td>103</td>\n",
       "      <td>13.01</td>\n",
       "      <td>12.44</td>\n",
       "    </tr>\n",
       "    <tr>\n",
       "      <th>9</th>\n",
       "      <td>11</td>\n",
       "      <td>1654</td>\n",
       "      <td>1752</td>\n",
       "      <td>98</td>\n",
       "      <td>5.59</td>\n",
       "      <td>29.87</td>\n",
       "    </tr>\n",
       "    <tr>\n",
       "      <th>20</th>\n",
       "      <td>22</td>\n",
       "      <td>934</td>\n",
       "      <td>1032</td>\n",
       "      <td>98</td>\n",
       "      <td>9.50</td>\n",
       "      <td>16.87</td>\n",
       "    </tr>\n",
       "    <tr>\n",
       "      <th>22</th>\n",
       "      <td>24</td>\n",
       "      <td>794</td>\n",
       "      <td>879</td>\n",
       "      <td>85</td>\n",
       "      <td>9.67</td>\n",
       "      <td>14.34</td>\n",
       "    </tr>\n",
       "    <tr>\n",
       "      <th>47</th>\n",
       "      <td>49</td>\n",
       "      <td>329</td>\n",
       "      <td>413</td>\n",
       "      <td>84</td>\n",
       "      <td>20.34</td>\n",
       "      <td>5.94</td>\n",
       "    </tr>\n",
       "    <tr>\n",
       "      <th>10</th>\n",
       "      <td>12</td>\n",
       "      <td>1570</td>\n",
       "      <td>1654</td>\n",
       "      <td>84</td>\n",
       "      <td>5.08</td>\n",
       "      <td>28.35</td>\n",
       "    </tr>\n",
       "    <tr>\n",
       "      <th>12</th>\n",
       "      <td>14</td>\n",
       "      <td>1519</td>\n",
       "      <td>1594</td>\n",
       "      <td>75</td>\n",
       "      <td>4.71</td>\n",
       "      <td>27.43</td>\n",
       "    </tr>\n",
       "    <tr>\n",
       "      <th>15</th>\n",
       "      <td>17</td>\n",
       "      <td>1269</td>\n",
       "      <td>1342</td>\n",
       "      <td>73</td>\n",
       "      <td>5.44</td>\n",
       "      <td>22.91</td>\n",
       "    </tr>\n",
       "    <tr>\n",
       "      <th>13</th>\n",
       "      <td>15</td>\n",
       "      <td>1446</td>\n",
       "      <td>1519</td>\n",
       "      <td>73</td>\n",
       "      <td>4.81</td>\n",
       "      <td>26.11</td>\n",
       "    </tr>\n",
       "  </tbody>\n",
       "</table>\n",
       "</div>"
      ],
      "text/plain": [
       "    sum_gamerounds  Total_Players  previous_round  decrease_gap  % decrease  \\\n",
       "0                2           4606            5538           932       16.83   \n",
       "1                3           3958            4606           648       14.07   \n",
       "3                5           2992            3629           637       17.55   \n",
       "5                7           2379            2861           482       16.85   \n",
       "2                4           3629            3958           329        8.31   \n",
       "8               10           1752            2013           261       12.97   \n",
       "7                9           2013            2267           254       11.20   \n",
       "4                6           2861            2992           131        4.38   \n",
       "18              20           1033            1158           125       10.79   \n",
       "6                8           2267            2379           112        4.71   \n",
       "14              16           1342            1446           104        7.19   \n",
       "24              26            689             792           103       13.01   \n",
       "9               11           1654            1752            98        5.59   \n",
       "20              22            934            1032            98        9.50   \n",
       "22              24            794             879            85        9.67   \n",
       "47              49            329             413            84       20.34   \n",
       "10              12           1570            1654            84        5.08   \n",
       "12              14           1519            1594            75        4.71   \n",
       "15              17           1269            1342            73        5.44   \n",
       "13              15           1446            1519            73        4.81   \n",
       "\n",
       "    % remaining  \n",
       "0         83.17  \n",
       "1         71.47  \n",
       "3         54.03  \n",
       "5         42.96  \n",
       "2         65.53  \n",
       "8         31.64  \n",
       "7         36.35  \n",
       "4         51.66  \n",
       "18        18.65  \n",
       "6         40.94  \n",
       "14        24.23  \n",
       "24        12.44  \n",
       "9         29.87  \n",
       "20        16.87  \n",
       "22        14.34  \n",
       "47         5.94  \n",
       "10        28.35  \n",
       "12        27.43  \n",
       "15        22.91  \n",
       "13        26.11  "
      ]
     },
     "execution_count": 16,
     "metadata": {},
     "output_type": "execute_result"
    },
    {
     "data": {
      "application/javascript": [
       "\n",
       "            setTimeout(function() {\n",
       "                var nbb_cell_id = 16;\n",
       "                var nbb_unformatted_code = \"gap_20\";\n",
       "                var nbb_formatted_code = \"gap_20\";\n",
       "                var nbb_cells = Jupyter.notebook.get_cells();\n",
       "                for (var i = 0; i < nbb_cells.length; ++i) {\n",
       "                    if (nbb_cells[i].input_prompt_number == nbb_cell_id) {\n",
       "                        if (nbb_cells[i].get_text() == nbb_unformatted_code) {\n",
       "                             nbb_cells[i].set_text(nbb_formatted_code);\n",
       "                        }\n",
       "                        break;\n",
       "                    }\n",
       "                }\n",
       "            }, 500);\n",
       "            "
      ],
      "text/plain": [
       "<IPython.core.display.Javascript object>"
      ]
     },
     "metadata": {},
     "output_type": "display_data"
    }
   ],
   "source": [
    "gap_20"
   ]
  },
  {
   "cell_type": "code",
   "execution_count": 17,
   "id": "af0f6bc9",
   "metadata": {},
   "outputs": [
    {
     "data": {
      "text/html": [
       "<div>\n",
       "<style scoped>\n",
       "    .dataframe tbody tr th:only-of-type {\n",
       "        vertical-align: middle;\n",
       "    }\n",
       "\n",
       "    .dataframe tbody tr th {\n",
       "        vertical-align: top;\n",
       "    }\n",
       "\n",
       "    .dataframe thead th {\n",
       "        text-align: right;\n",
       "    }\n",
       "</style>\n",
       "<table border=\"1\" class=\"dataframe\">\n",
       "  <thead>\n",
       "    <tr style=\"text-align: right;\">\n",
       "      <th></th>\n",
       "      <th>sum_gamerounds</th>\n",
       "      <th>Total_Players</th>\n",
       "      <th>previous_round</th>\n",
       "      <th>decrease_gap</th>\n",
       "      <th>% decrease</th>\n",
       "      <th>% remaining</th>\n",
       "    </tr>\n",
       "  </thead>\n",
       "  <tbody>\n",
       "    <tr>\n",
       "      <th>152</th>\n",
       "      <td>154</td>\n",
       "      <td>54</td>\n",
       "      <td>60</td>\n",
       "      <td>6</td>\n",
       "      <td>10.00</td>\n",
       "      <td>0.98</td>\n",
       "    </tr>\n",
       "    <tr>\n",
       "      <th>154</th>\n",
       "      <td>156</td>\n",
       "      <td>45</td>\n",
       "      <td>72</td>\n",
       "      <td>27</td>\n",
       "      <td>37.50</td>\n",
       "      <td>0.81</td>\n",
       "    </tr>\n",
       "    <tr>\n",
       "      <th>163</th>\n",
       "      <td>165</td>\n",
       "      <td>54</td>\n",
       "      <td>59</td>\n",
       "      <td>5</td>\n",
       "      <td>8.47</td>\n",
       "      <td>0.98</td>\n",
       "    </tr>\n",
       "    <tr>\n",
       "      <th>164</th>\n",
       "      <td>166</td>\n",
       "      <td>54</td>\n",
       "      <td>54</td>\n",
       "      <td>0</td>\n",
       "      <td>0.00</td>\n",
       "      <td>0.98</td>\n",
       "    </tr>\n",
       "    <tr>\n",
       "      <th>166</th>\n",
       "      <td>168</td>\n",
       "      <td>53</td>\n",
       "      <td>60</td>\n",
       "      <td>7</td>\n",
       "      <td>11.67</td>\n",
       "      <td>0.96</td>\n",
       "    </tr>\n",
       "    <tr>\n",
       "      <th>...</th>\n",
       "      <td>...</td>\n",
       "      <td>...</td>\n",
       "      <td>...</td>\n",
       "      <td>...</td>\n",
       "      <td>...</td>\n",
       "      <td>...</td>\n",
       "    </tr>\n",
       "    <tr>\n",
       "      <th>934</th>\n",
       "      <td>2251</td>\n",
       "      <td>1</td>\n",
       "      <td>1</td>\n",
       "      <td>0</td>\n",
       "      <td>0.00</td>\n",
       "      <td>0.02</td>\n",
       "    </tr>\n",
       "    <tr>\n",
       "      <th>935</th>\n",
       "      <td>2294</td>\n",
       "      <td>1</td>\n",
       "      <td>1</td>\n",
       "      <td>0</td>\n",
       "      <td>0.00</td>\n",
       "      <td>0.02</td>\n",
       "    </tr>\n",
       "    <tr>\n",
       "      <th>936</th>\n",
       "      <td>2438</td>\n",
       "      <td>1</td>\n",
       "      <td>1</td>\n",
       "      <td>0</td>\n",
       "      <td>0.00</td>\n",
       "      <td>0.02</td>\n",
       "    </tr>\n",
       "    <tr>\n",
       "      <th>937</th>\n",
       "      <td>2640</td>\n",
       "      <td>1</td>\n",
       "      <td>1</td>\n",
       "      <td>0</td>\n",
       "      <td>0.00</td>\n",
       "      <td>0.02</td>\n",
       "    </tr>\n",
       "    <tr>\n",
       "      <th>938</th>\n",
       "      <td>2961</td>\n",
       "      <td>1</td>\n",
       "      <td>1</td>\n",
       "      <td>0</td>\n",
       "      <td>0.00</td>\n",
       "      <td>0.02</td>\n",
       "    </tr>\n",
       "  </tbody>\n",
       "</table>\n",
       "<p>772 rows × 6 columns</p>\n",
       "</div>"
      ],
      "text/plain": [
       "     sum_gamerounds  Total_Players  previous_round  decrease_gap  % decrease  \\\n",
       "152             154             54              60             6       10.00   \n",
       "154             156             45              72            27       37.50   \n",
       "163             165             54              59             5        8.47   \n",
       "164             166             54              54             0        0.00   \n",
       "166             168             53              60             7       11.67   \n",
       "..              ...            ...             ...           ...         ...   \n",
       "934            2251              1               1             0        0.00   \n",
       "935            2294              1               1             0        0.00   \n",
       "936            2438              1               1             0        0.00   \n",
       "937            2640              1               1             0        0.00   \n",
       "938            2961              1               1             0        0.00   \n",
       "\n",
       "     % remaining  \n",
       "152         0.98  \n",
       "154         0.81  \n",
       "163         0.98  \n",
       "164         0.98  \n",
       "166         0.96  \n",
       "..           ...  \n",
       "934         0.02  \n",
       "935         0.02  \n",
       "936         0.02  \n",
       "937         0.02  \n",
       "938         0.02  \n",
       "\n",
       "[772 rows x 6 columns]"
      ]
     },
     "execution_count": 17,
     "metadata": {},
     "output_type": "execute_result"
    },
    {
     "data": {
      "application/javascript": [
       "\n",
       "            setTimeout(function() {\n",
       "                var nbb_cell_id = 17;\n",
       "                var nbb_unformatted_code = \"gap[gap[\\\"% remaining\\\"] < 1]\";\n",
       "                var nbb_formatted_code = \"gap[gap[\\\"% remaining\\\"] < 1]\";\n",
       "                var nbb_cells = Jupyter.notebook.get_cells();\n",
       "                for (var i = 0; i < nbb_cells.length; ++i) {\n",
       "                    if (nbb_cells[i].input_prompt_number == nbb_cell_id) {\n",
       "                        if (nbb_cells[i].get_text() == nbb_unformatted_code) {\n",
       "                             nbb_cells[i].set_text(nbb_formatted_code);\n",
       "                        }\n",
       "                        break;\n",
       "                    }\n",
       "                }\n",
       "            }, 500);\n",
       "            "
      ],
      "text/plain": [
       "<IPython.core.display.Javascript object>"
      ]
     },
     "metadata": {},
     "output_type": "display_data"
    }
   ],
   "source": [
    "gap[gap[\"% remaining\"] < 1]"
   ]
  },
  {
   "cell_type": "code",
   "execution_count": 18,
   "id": "148a83b0",
   "metadata": {},
   "outputs": [
    {
     "data": {
      "image/png": "[encoded data removed]",
      "text/plain": [
       "<Figure size 1440x720 with 1 Axes>"
      ]
     },
     "metadata": {},
     "output_type": "display_data"
    },
    {
     "data": {
      "application/javascript": [
       "\n",
       "            setTimeout(function() {\n",
       "                var nbb_cell_id = 18;\n",
       "                var nbb_unformatted_code = \"# Vertical Barchart\\n# Create subplot\\nsns.set_style(\\\"whitegrid\\\")  # set theme\\nfig, axes = plt.subplots(figsize=(20, 10))\\n# Create barplot\\nchart = sns.barplot(\\n    x=gap_20.sum_gamerounds,\\n    y=gap_20[\\\"decrease_gap\\\"],\\n    palette=sns.cubehelix_palette(len(gap_20)),\\n    order=gap_20.sum_gamerounds.values,\\n)\\n# Customize chart\\nchart.set_ylabel(\\\"Total Reduction\\\", weight=\\\"bold\\\", fontsize=13)\\nchart.set_xlabel(\\\"Round\\\", weight=\\\"bold\\\", fontsize=13)\\nchart.set_title(\\n    \\\"Decrease in number of players after each (sum) round - top 20 decrease\\\",\\n    weight=\\\"bold\\\",\\n    fontsize=16,\\n)\\nsns.despine()\\n# Value number on chart\\nfor p in axes.patches:\\n    height = p.get_height()\\n    axes.text(\\n        p.get_x() + p.get_width() / 2.0,\\n        height + 3,\\n        \\\"{:1.0f}\\\".format(height),\\n        ha=\\\"center\\\",\\n        fontsize=12,\\n    )\";\n",
       "                var nbb_formatted_code = \"# Vertical Barchart\\n# Create subplot\\nsns.set_style(\\\"whitegrid\\\")  # set theme\\nfig, axes = plt.subplots(figsize=(20, 10))\\n# Create barplot\\nchart = sns.barplot(\\n    x=gap_20.sum_gamerounds,\\n    y=gap_20[\\\"decrease_gap\\\"],\\n    palette=sns.cubehelix_palette(len(gap_20)),\\n    order=gap_20.sum_gamerounds.values,\\n)\\n# Customize chart\\nchart.set_ylabel(\\\"Total Reduction\\\", weight=\\\"bold\\\", fontsize=13)\\nchart.set_xlabel(\\\"Round\\\", weight=\\\"bold\\\", fontsize=13)\\nchart.set_title(\\n    \\\"Decrease in number of players after each (sum) round - top 20 decrease\\\",\\n    weight=\\\"bold\\\",\\n    fontsize=16,\\n)\\nsns.despine()\\n# Value number on chart\\nfor p in axes.patches:\\n    height = p.get_height()\\n    axes.text(\\n        p.get_x() + p.get_width() / 2.0,\\n        height + 3,\\n        \\\"{:1.0f}\\\".format(height),\\n        ha=\\\"center\\\",\\n        fontsize=12,\\n    )\";\n",
       "                var nbb_cells = Jupyter.notebook.get_cells();\n",
       "                for (var i = 0; i < nbb_cells.length; ++i) {\n",
       "                    if (nbb_cells[i].input_prompt_number == nbb_cell_id) {\n",
       "                        if (nbb_cells[i].get_text() == nbb_unformatted_code) {\n",
       "                             nbb_cells[i].set_text(nbb_formatted_code);\n",
       "                        }\n",
       "                        break;\n",
       "                    }\n",
       "                }\n",
       "            }, 500);\n",
       "            "
      ],
      "text/plain": [
       "<IPython.core.display.Javascript object>"
      ]
     },
     "metadata": {},
     "output_type": "display_data"
    }
   ],
   "source": [
    "# Vertical Barchart\n",
    "# Create subplot\n",
    "sns.set_style(\"whitegrid\")  # set theme\n",
    "fig, axes = plt.subplots(figsize=(20, 10))\n",
    "# Create barplot\n",
    "chart = sns.barplot(\n",
    "    x=gap_20.sum_gamerounds,\n",
    "    y=gap_20[\"decrease_gap\"],\n",
    "    palette=sns.cubehelix_palette(len(gap_20)),\n",
    "    order=gap_20.sum_gamerounds.values,\n",
    ")\n",
    "# Customize chart\n",
    "chart.set_ylabel(\"Total Reduction\", weight=\"bold\", fontsize=13)\n",
    "chart.set_xlabel(\"Round\", weight=\"bold\", fontsize=13)\n",
    "chart.set_title(\n",
    "    \"Decrease in number of players after each (sum) round - top 20 decrease\",\n",
    "    weight=\"bold\",\n",
    "    fontsize=16,\n",
    ")\n",
    "sns.despine()\n",
    "# Value number on chart\n",
    "for p in axes.patches:\n",
    "    height = p.get_height()\n",
    "    axes.text(\n",
    "        p.get_x() + p.get_width() / 2.0,\n",
    "        height + 3,\n",
    "        \"{:1.0f}\".format(height),\n",
    "        ha=\"center\",\n",
    "        fontsize=12,\n",
    "    )"
   ]
  },
  {
   "cell_type": "code",
   "execution_count": 19,
   "id": "97610e94",
   "metadata": {
    "scrolled": true
   },
   "outputs": [
    {
     "data": {
      "text/plain": [
       "Text(0.5, 1.0, 'Players who play each rounds')"
      ]
     },
     "execution_count": 19,
     "metadata": {},
     "output_type": "execute_result"
    },
    {
     "data": {
      "image/png": "[encoded data removed]",
      "text/plain": [
       "<Figure size 1800x1440 with 2 Axes>"
      ]
     },
     "metadata": {},
     "output_type": "display_data"
    },
    {
     "data": {
      "application/javascript": [
       "\n",
       "            setTimeout(function() {\n",
       "                var nbb_cell_id = 19;\n",
       "                var nbb_unformatted_code = \"df4 = df3[df3.sum_gamerounds < 134]\\n\\n# Create subplot\\nsns.set_style(\\\"whitegrid\\\")\\nfig, axes = plt.subplots(2, 1, figsize=(25, 20), sharey=False)  # Create lineplot\\nchart = sns.lineplot(ax=axes[0], x=df4.sum_gamerounds, y=df4.Total_Players, color=\\\"purple\\\")\\nsns.despine(left=True)\\n\\n# Customize chart\\nchart.set_xlabel(\\\"Round number\\\", weight=\\\"bold\\\", fontsize=13)\\nchart.set_ylabel(\\\"Number of players\\\", weight=\\\"bold\\\", fontsize=13)\\nchart.set_title(\\\"Players who play less than 134 rounds\\\", weight=\\\"bold\\\", fontsize=19)\\n\\n# Create lineplot\\nchart = sns.lineplot(ax=axes[1], x=df3.sum_gamerounds, y=df3.Total_Players, color=\\\"purple\\\")\\nsns.despine(left=True)\\n# Customize chart\\nchart.set_xlabel(\\\"Round number\\\", weight=\\\"bold\\\", fontsize=13)\\nchart.set_ylabel(\\\"Number of players\\\", weight=\\\"bold\\\", fontsize=13)\\nchart.set_title(\\\"Players who play each rounds\\\", weight=\\\"bold\\\", fontsize=19)\";\n",
       "                var nbb_formatted_code = \"df4 = df3[df3.sum_gamerounds < 134]\\n\\n# Create subplot\\nsns.set_style(\\\"whitegrid\\\")\\nfig, axes = plt.subplots(2, 1, figsize=(25, 20), sharey=False)  # Create lineplot\\nchart = sns.lineplot(\\n    ax=axes[0], x=df4.sum_gamerounds, y=df4.Total_Players, color=\\\"purple\\\"\\n)\\nsns.despine(left=True)\\n\\n# Customize chart\\nchart.set_xlabel(\\\"Round number\\\", weight=\\\"bold\\\", fontsize=13)\\nchart.set_ylabel(\\\"Number of players\\\", weight=\\\"bold\\\", fontsize=13)\\nchart.set_title(\\\"Players who play less than 134 rounds\\\", weight=\\\"bold\\\", fontsize=19)\\n\\n# Create lineplot\\nchart = sns.lineplot(\\n    ax=axes[1], x=df3.sum_gamerounds, y=df3.Total_Players, color=\\\"purple\\\"\\n)\\nsns.despine(left=True)\\n# Customize chart\\nchart.set_xlabel(\\\"Round number\\\", weight=\\\"bold\\\", fontsize=13)\\nchart.set_ylabel(\\\"Number of players\\\", weight=\\\"bold\\\", fontsize=13)\\nchart.set_title(\\\"Players who play each rounds\\\", weight=\\\"bold\\\", fontsize=19)\";\n",
       "                var nbb_cells = Jupyter.notebook.get_cells();\n",
       "                for (var i = 0; i < nbb_cells.length; ++i) {\n",
       "                    if (nbb_cells[i].input_prompt_number == nbb_cell_id) {\n",
       "                        if (nbb_cells[i].get_text() == nbb_unformatted_code) {\n",
       "                             nbb_cells[i].set_text(nbb_formatted_code);\n",
       "                        }\n",
       "                        break;\n",
       "                    }\n",
       "                }\n",
       "            }, 500);\n",
       "            "
      ],
      "text/plain": [
       "<IPython.core.display.Javascript object>"
      ]
     },
     "metadata": {},
     "output_type": "display_data"
    }
   ],
   "source": [
    "df4 = df3[df3.sum_gamerounds < 134]\n",
    "\n",
    "# Create subplot\n",
    "sns.set_style(\"whitegrid\")\n",
    "fig, axes = plt.subplots(2, 1, figsize=(25, 20), sharey=False)  # Create lineplot\n",
    "chart = sns.lineplot(ax=axes[0], x=df4.sum_gamerounds, y=df4.Total_Players, color=\"purple\")\n",
    "sns.despine(left=True)\n",
    "\n",
    "# Customize chart\n",
    "chart.set_xlabel(\"Round number\", weight=\"bold\", fontsize=13)\n",
    "chart.set_ylabel(\"Number of players\", weight=\"bold\", fontsize=13)\n",
    "chart.set_title(\"Players who play less than 134 rounds\", weight=\"bold\", fontsize=19)\n",
    "\n",
    "# Create lineplot\n",
    "chart = sns.lineplot(ax=axes[1], x=df3.sum_gamerounds, y=df3.Total_Players, color=\"purple\")\n",
    "sns.despine(left=True)\n",
    "# Customize chart\n",
    "chart.set_xlabel(\"Round number\", weight=\"bold\", fontsize=13)\n",
    "chart.set_ylabel(\"Number of players\", weight=\"bold\", fontsize=13)\n",
    "chart.set_title(\"Players who play each rounds\", weight=\"bold\", fontsize=19)\n"
   ]
  },
  {
   "cell_type": "markdown",
   "id": "6d793bcf",
   "metadata": {},
   "source": [
    "- Looking at the above graph, it can be observed that players were reduced after each round. Especially, the significant decrease happened between the first round and second round with 932 players (~16.83% players) stopped after the first round. \n",
    "- The reduction from the 1st round to 20th round was even more significant, and then the reduction started to flatten. \n",
    "- Therefore, it can be said that the players often drop the game in the early stage from round 1 to round 20. After round 20, player reduction in each round seemed to get smaller. It means that players who stayed after round 20 must truly interest in the game. However, after round 154, the players lost interest in the game as the percentage of players remaining were under 1%"
   ]
  },
  {
   "cell_type": "markdown",
   "id": "f25037b7",
   "metadata": {},
   "source": [
    "### <font color='Purple'> B. Gate 30 & 40 milestones </font>  <a name= '3b'></a>  "
   ]
  },
  {
   "cell_type": "code",
   "execution_count": 67,
   "id": "30b0523c",
   "metadata": {
    "scrolled": true
   },
   "outputs": [
    {
     "data": {
      "application/javascript": [
       "\n",
       "            setTimeout(function() {\n",
       "                var nbb_cell_id = 67;\n",
       "                var nbb_unformatted_code = \"# How many users reached gate 30 & gate 40 levels?\\ndf_version = (\\n    df1.groupby([\\\"version\\\", \\\"sum_gamerounds\\\"])\\n    .agg({\\\"userid\\\": \\\"nunique\\\"})\\n    .rename({\\\"sum_gamerounds\\\": \\\"Total_Rounds\\\", \\\"userid\\\": \\\"Total_Players\\\"}, axis=1)\\n    .reset_index()\\n)\\ndf_reachgate = df_version.loc[df_version.sum_gamerounds.isin([1, 30, 40, 29, 39])]\\n\\n## %reach gate 30&40 compared to level 1\\ndf_reachgate[\\\"%remaining\\\"] = np.where(\\n    df_reachgate[\\\"version\\\"] == \\\"gate_30\\\",\\n    ((df_reachgate[\\\"Total_Players\\\"] / 2749) * 100).round(3),\\n    ((df_reachgate[\\\"Total_Players\\\"] / 2789) * 100).round(3),\\n)\";\n",
       "                var nbb_formatted_code = \"# How many users reached gate 30 & gate 40 levels?\\ndf_version = (\\n    df1.groupby([\\\"version\\\", \\\"sum_gamerounds\\\"])\\n    .agg({\\\"userid\\\": \\\"nunique\\\"})\\n    .rename({\\\"sum_gamerounds\\\": \\\"Total_Rounds\\\", \\\"userid\\\": \\\"Total_Players\\\"}, axis=1)\\n    .reset_index()\\n)\\ndf_reachgate = df_version.loc[df_version.sum_gamerounds.isin([1, 30, 40, 29, 39])]\\n\\n## %reach gate 30&40 compared to level 1\\ndf_reachgate[\\\"%remaining\\\"] = np.where(\\n    df_reachgate[\\\"version\\\"] == \\\"gate_30\\\",\\n    ((df_reachgate[\\\"Total_Players\\\"] / 2749) * 100).round(3),\\n    ((df_reachgate[\\\"Total_Players\\\"] / 2789) * 100).round(3),\\n)\";\n",
       "                var nbb_cells = Jupyter.notebook.get_cells();\n",
       "                for (var i = 0; i < nbb_cells.length; ++i) {\n",
       "                    if (nbb_cells[i].input_prompt_number == nbb_cell_id) {\n",
       "                        if (nbb_cells[i].get_text() == nbb_unformatted_code) {\n",
       "                             nbb_cells[i].set_text(nbb_formatted_code);\n",
       "                        }\n",
       "                        break;\n",
       "                    }\n",
       "                }\n",
       "            }, 500);\n",
       "            "
      ],
      "text/plain": [
       "<IPython.core.display.Javascript object>"
      ]
     },
     "metadata": {},
     "output_type": "display_data"
    }
   ],
   "source": [
    "# How many users reached gate 30 & gate 40 levels?\n",
    "df_version = (\n",
    "    df1.groupby([\"version\", \"sum_gamerounds\"])\n",
    "    .agg({\"userid\": \"nunique\"})\n",
    "    .rename({\"sum_gamerounds\": \"Total_Rounds\", \"userid\": \"Total_Players\"}, axis=1)\n",
    "    .reset_index()\n",
    ")\n",
    "df_reachgate = df_version.loc[df_version.sum_gamerounds.isin([1, 30, 40, 29, 39])]\n",
    "\n",
    "## %reach gate 30&40 compared to level 1\n",
    "df_reachgate[\"%remaining\"] = np.where(\n",
    "    df_reachgate[\"version\"] == \"gate_30\",\n",
    "    ((df_reachgate[\"Total_Players\"] / 2749) * 100).round(3),\n",
    "    ((df_reachgate[\"Total_Players\"] / 2789) * 100).round(3),\n",
    ")"
   ]
  },
  {
   "cell_type": "code",
   "execution_count": 68,
   "id": "8c3c0221",
   "metadata": {},
   "outputs": [
    {
     "data": {
      "text/html": [
       "<div>\n",
       "<style scoped>\n",
       "    .dataframe tbody tr th:only-of-type {\n",
       "        vertical-align: middle;\n",
       "    }\n",
       "\n",
       "    .dataframe tbody tr th {\n",
       "        vertical-align: top;\n",
       "    }\n",
       "\n",
       "    .dataframe thead th {\n",
       "        text-align: right;\n",
       "    }\n",
       "</style>\n",
       "<table border=\"1\" class=\"dataframe\">\n",
       "  <thead>\n",
       "    <tr style=\"text-align: right;\">\n",
       "      <th></th>\n",
       "      <th>version</th>\n",
       "      <th>sum_gamerounds</th>\n",
       "      <th>Total_Players</th>\n",
       "      <th>%remaining</th>\n",
       "    </tr>\n",
       "  </thead>\n",
       "  <tbody>\n",
       "    <tr>\n",
       "      <th>1</th>\n",
       "      <td>gate_30</td>\n",
       "      <td>1</td>\n",
       "      <td>2749</td>\n",
       "      <td>100.000</td>\n",
       "    </tr>\n",
       "    <tr>\n",
       "      <th>29</th>\n",
       "      <td>gate_30</td>\n",
       "      <td>29</td>\n",
       "      <td>302</td>\n",
       "      <td>10.986</td>\n",
       "    </tr>\n",
       "    <tr>\n",
       "      <th>30</th>\n",
       "      <td>gate_30</td>\n",
       "      <td>30</td>\n",
       "      <td>298</td>\n",
       "      <td>10.840</td>\n",
       "    </tr>\n",
       "    <tr>\n",
       "      <th>39</th>\n",
       "      <td>gate_30</td>\n",
       "      <td>39</td>\n",
       "      <td>300</td>\n",
       "      <td>10.913</td>\n",
       "    </tr>\n",
       "    <tr>\n",
       "      <th>40</th>\n",
       "      <td>gate_30</td>\n",
       "      <td>40</td>\n",
       "      <td>278</td>\n",
       "      <td>10.113</td>\n",
       "    </tr>\n",
       "    <tr>\n",
       "      <th>780</th>\n",
       "      <td>gate_40</td>\n",
       "      <td>1</td>\n",
       "      <td>2789</td>\n",
       "      <td>100.000</td>\n",
       "    </tr>\n",
       "    <tr>\n",
       "      <th>808</th>\n",
       "      <td>gate_40</td>\n",
       "      <td>29</td>\n",
       "      <td>311</td>\n",
       "      <td>11.151</td>\n",
       "    </tr>\n",
       "    <tr>\n",
       "      <th>809</th>\n",
       "      <td>gate_40</td>\n",
       "      <td>30</td>\n",
       "      <td>344</td>\n",
       "      <td>12.334</td>\n",
       "    </tr>\n",
       "    <tr>\n",
       "      <th>818</th>\n",
       "      <td>gate_40</td>\n",
       "      <td>39</td>\n",
       "      <td>242</td>\n",
       "      <td>8.677</td>\n",
       "    </tr>\n",
       "    <tr>\n",
       "      <th>819</th>\n",
       "      <td>gate_40</td>\n",
       "      <td>40</td>\n",
       "      <td>227</td>\n",
       "      <td>8.139</td>\n",
       "    </tr>\n",
       "  </tbody>\n",
       "</table>\n",
       "</div>"
      ],
      "text/plain": [
       "     version  sum_gamerounds  Total_Players  %remaining\n",
       "1    gate_30               1           2749     100.000\n",
       "29   gate_30              29            302      10.986\n",
       "30   gate_30              30            298      10.840\n",
       "39   gate_30              39            300      10.913\n",
       "40   gate_30              40            278      10.113\n",
       "780  gate_40               1           2789     100.000\n",
       "808  gate_40              29            311      11.151\n",
       "809  gate_40              30            344      12.334\n",
       "818  gate_40              39            242       8.677\n",
       "819  gate_40              40            227       8.139"
      ]
     },
     "execution_count": 68,
     "metadata": {},
     "output_type": "execute_result"
    },
    {
     "data": {
      "application/javascript": [
       "\n",
       "            setTimeout(function() {\n",
       "                var nbb_cell_id = 68;\n",
       "                var nbb_unformatted_code = \"df_reachgate\";\n",
       "                var nbb_formatted_code = \"df_reachgate\";\n",
       "                var nbb_cells = Jupyter.notebook.get_cells();\n",
       "                for (var i = 0; i < nbb_cells.length; ++i) {\n",
       "                    if (nbb_cells[i].input_prompt_number == nbb_cell_id) {\n",
       "                        if (nbb_cells[i].get_text() == nbb_unformatted_code) {\n",
       "                             nbb_cells[i].set_text(nbb_formatted_code);\n",
       "                        }\n",
       "                        break;\n",
       "                    }\n",
       "                }\n",
       "            }, 500);\n",
       "            "
      ],
      "text/plain": [
       "<IPython.core.display.Javascript object>"
      ]
     },
     "metadata": {},
     "output_type": "display_data"
    }
   ],
   "source": [
    "df_reachgate"
   ]
  },
  {
   "cell_type": "markdown",
   "id": "4f0ee64f",
   "metadata": {},
   "source": [
    "**Looking if users coming back after 7 days after reaching stage 30,40**"
   ]
  },
  {
   "cell_type": "code",
   "execution_count": 64,
   "id": "65575d1f",
   "metadata": {},
   "outputs": [
    {
     "data": {
      "text/html": [
       "<div>\n",
       "<style scoped>\n",
       "    .dataframe tbody tr th:only-of-type {\n",
       "        vertical-align: middle;\n",
       "    }\n",
       "\n",
       "    .dataframe tbody tr th {\n",
       "        vertical-align: top;\n",
       "    }\n",
       "\n",
       "    .dataframe thead th {\n",
       "        text-align: right;\n",
       "    }\n",
       "</style>\n",
       "<table border=\"1\" class=\"dataframe\">\n",
       "  <thead>\n",
       "    <tr style=\"text-align: right;\">\n",
       "      <th></th>\n",
       "      <th>userid</th>\n",
       "      <th>version</th>\n",
       "      <th>sum_gamerounds</th>\n",
       "      <th>retention_1</th>\n",
       "      <th>retention_7</th>\n",
       "    </tr>\n",
       "  </thead>\n",
       "  <tbody>\n",
       "    <tr>\n",
       "      <th>0</th>\n",
       "      <td>116</td>\n",
       "      <td>gate_30</td>\n",
       "      <td>3</td>\n",
       "      <td>False</td>\n",
       "      <td>False</td>\n",
       "    </tr>\n",
       "    <tr>\n",
       "      <th>1</th>\n",
       "      <td>337</td>\n",
       "      <td>gate_30</td>\n",
       "      <td>38</td>\n",
       "      <td>True</td>\n",
       "      <td>False</td>\n",
       "    </tr>\n",
       "    <tr>\n",
       "      <th>2</th>\n",
       "      <td>377</td>\n",
       "      <td>gate_40</td>\n",
       "      <td>165</td>\n",
       "      <td>True</td>\n",
       "      <td>False</td>\n",
       "    </tr>\n",
       "    <tr>\n",
       "      <th>3</th>\n",
       "      <td>483</td>\n",
       "      <td>gate_40</td>\n",
       "      <td>1</td>\n",
       "      <td>False</td>\n",
       "      <td>False</td>\n",
       "    </tr>\n",
       "    <tr>\n",
       "      <th>4</th>\n",
       "      <td>488</td>\n",
       "      <td>gate_40</td>\n",
       "      <td>179</td>\n",
       "      <td>True</td>\n",
       "      <td>True</td>\n",
       "    </tr>\n",
       "  </tbody>\n",
       "</table>\n",
       "</div>"
      ],
      "text/plain": [
       "   userid  version  sum_gamerounds  retention_1  retention_7\n",
       "0     116  gate_30               3        False        False\n",
       "1     337  gate_30              38         True        False\n",
       "2     377  gate_40             165         True        False\n",
       "3     483  gate_40               1        False        False\n",
       "4     488  gate_40             179         True         True"
      ]
     },
     "execution_count": 64,
     "metadata": {},
     "output_type": "execute_result"
    },
    {
     "data": {
      "application/javascript": [
       "\n",
       "            setTimeout(function() {\n",
       "                var nbb_cell_id = 64;\n",
       "                var nbb_unformatted_code = \"df2.head()\";\n",
       "                var nbb_formatted_code = \"df2.head()\";\n",
       "                var nbb_cells = Jupyter.notebook.get_cells();\n",
       "                for (var i = 0; i < nbb_cells.length; ++i) {\n",
       "                    if (nbb_cells[i].input_prompt_number == nbb_cell_id) {\n",
       "                        if (nbb_cells[i].get_text() == nbb_unformatted_code) {\n",
       "                             nbb_cells[i].set_text(nbb_formatted_code);\n",
       "                        }\n",
       "                        break;\n",
       "                    }\n",
       "                }\n",
       "            }, 500);\n",
       "            "
      ],
      "text/plain": [
       "<IPython.core.display.Javascript object>"
      ]
     },
     "metadata": {},
     "output_type": "display_data"
    }
   ],
   "source": [
    "df2.head()"
   ]
  },
  {
   "cell_type": "code",
   "execution_count": 73,
   "id": "bf9adc6c",
   "metadata": {},
   "outputs": [
    {
     "data": {
      "application/javascript": [
       "\n",
       "            setTimeout(function() {\n",
       "                var nbb_cell_id = 73;\n",
       "                var nbb_unformatted_code = \"df_30gate = df2[(df2.version == \\\"gate_30\\\") & (df2.sum_gamerounds == 29)]\\ndf_40gate = df2[(df2.version == \\\"gate_40\\\") & (df2.sum_gamerounds == 39)]\";\n",
       "                var nbb_formatted_code = \"df_30gate = df2[(df2.version == \\\"gate_30\\\") & (df2.sum_gamerounds == 29)]\\ndf_40gate = df2[(df2.version == \\\"gate_40\\\") & (df2.sum_gamerounds == 39)]\";\n",
       "                var nbb_cells = Jupyter.notebook.get_cells();\n",
       "                for (var i = 0; i < nbb_cells.length; ++i) {\n",
       "                    if (nbb_cells[i].input_prompt_number == nbb_cell_id) {\n",
       "                        if (nbb_cells[i].get_text() == nbb_unformatted_code) {\n",
       "                             nbb_cells[i].set_text(nbb_formatted_code);\n",
       "                        }\n",
       "                        break;\n",
       "                    }\n",
       "                }\n",
       "            }, 500);\n",
       "            "
      ],
      "text/plain": [
       "<IPython.core.display.Javascript object>"
      ]
     },
     "metadata": {},
     "output_type": "display_data"
    }
   ],
   "source": [
    "df_30gate = df2[(df2.version == \"gate_30\") & (df2.sum_gamerounds == 29)]\n",
    "df_40gate = df2[(df2.version == \"gate_40\") & (df2.sum_gamerounds == 39)]"
   ]
  },
  {
   "cell_type": "code",
   "execution_count": 79,
   "id": "917cc528",
   "metadata": {},
   "outputs": [
    {
     "data": {
      "text/plain": [
       "0.17218543046357615"
      ]
     },
     "execution_count": 79,
     "metadata": {},
     "output_type": "execute_result"
    },
    {
     "data": {
      "application/javascript": [
       "\n",
       "            setTimeout(function() {\n",
       "                var nbb_cell_id = 79;\n",
       "                var nbb_unformatted_code = \"df_30gate[\\\"retention_7\\\"].sum()/df_30gate[\\\"retention_7\\\"].count()\";\n",
       "                var nbb_formatted_code = \"df_30gate[\\\"retention_7\\\"].sum() / df_30gate[\\\"retention_7\\\"].count()\";\n",
       "                var nbb_cells = Jupyter.notebook.get_cells();\n",
       "                for (var i = 0; i < nbb_cells.length; ++i) {\n",
       "                    if (nbb_cells[i].input_prompt_number == nbb_cell_id) {\n",
       "                        if (nbb_cells[i].get_text() == nbb_unformatted_code) {\n",
       "                             nbb_cells[i].set_text(nbb_formatted_code);\n",
       "                        }\n",
       "                        break;\n",
       "                    }\n",
       "                }\n",
       "            }, 500);\n",
       "            "
      ],
      "text/plain": [
       "<IPython.core.display.Javascript object>"
      ]
     },
     "metadata": {},
     "output_type": "display_data"
    }
   ],
   "source": [
    "#%users coming back in version 30_gate after finishing stage 29\n",
    "df_30gate[\"retention_7\"].sum() / df_30gate[\"retention_7\"].count()"
   ]
  },
  {
   "cell_type": "code",
   "execution_count": 80,
   "id": "6077bd26",
   "metadata": {},
   "outputs": [
    {
     "data": {
      "text/plain": [
       "0.2024793388429752"
      ]
     },
     "execution_count": 80,
     "metadata": {},
     "output_type": "execute_result"
    },
    {
     "data": {
      "application/javascript": [
       "\n",
       "            setTimeout(function() {\n",
       "                var nbb_cell_id = 80;\n",
       "                var nbb_unformatted_code = \"df_40gate[\\\"retention_7\\\"].sum() / df_40gate[\\\"retention_7\\\"].count()\";\n",
       "                var nbb_formatted_code = \"df_40gate[\\\"retention_7\\\"].sum() / df_40gate[\\\"retention_7\\\"].count()\";\n",
       "                var nbb_cells = Jupyter.notebook.get_cells();\n",
       "                for (var i = 0; i < nbb_cells.length; ++i) {\n",
       "                    if (nbb_cells[i].input_prompt_number == nbb_cell_id) {\n",
       "                        if (nbb_cells[i].get_text() == nbb_unformatted_code) {\n",
       "                             nbb_cells[i].set_text(nbb_formatted_code);\n",
       "                        }\n",
       "                        break;\n",
       "                    }\n",
       "                }\n",
       "            }, 500);\n",
       "            "
      ],
      "text/plain": [
       "<IPython.core.display.Javascript object>"
      ]
     },
     "metadata": {},
     "output_type": "display_data"
    }
   ],
   "source": [
    "#%users coming back in version 30_gate after finishing stage 39\n",
    "df_40gate[\"retention_7\"].sum() / df_40gate[\"retention_7\"].count()"
   ]
  },
  {
   "cell_type": "markdown",
   "id": "9c4abcf1",
   "metadata": {},
   "source": [
    "- There were only 10.8% of users of version gate_30 remaining until gate 30, and 1% of players of round 29 did not continue to gate 30 in 1 week. After 7 days, about 17% of users in round 29 return to the game (based on the retention rate).  \n",
    "- There were 8% of users of version gate_40 remaining until gate 40, and 6% of players of round 39 did not continue to gate 40 within 1 week. After 7 days, 20% of users in round 39 came back. \n",
    "- Meanwhile, the number of players reaching gates 30 of gate_40 version was greater than version gate_30, with 12% remaining players. <br> \n",
    "- At first glance, the total players reaching level 30 in version gate_40 was higher than in version gate_30's. However, after that, % the users remaining until gate 40 reduced by 4% to only ~8%, which was 2% lower than the same gate level of version gate_30. <br> \n",
    "***So, it can be assumed that more players come to stage 30 and continue to go on in version gate_40 than in version gate_30 (because users do not have to wait or make in-app purchases in gate 30 of version gate_40). <br>\n",
    "According to 1-week data, 1% of players of round 29 did not continue to gate 30, and 6% of players of round 39 did not continue to gate 40. It can be understood that users in version gate_30 seem to still remain interested in the game when coming to level 30, so they played the game immediately after waiting time or made the in-app purchase to continue. In contrast, players in the gate_40 version would take a break and continue after (The number of 20% players returns after 7 days might be a piece of evidence for this statement). In other words, people passing stage 40 in the gate_40 version seem to have more commitment to the game**"
   ]
  },
  {
   "cell_type": "markdown",
   "id": "71e1888a",
   "metadata": {},
   "source": [
    "## <font color='Purple'> Part 4. 1-day Retention Insight </font>  <a name= '4'></a>"
   ]
  },
  {
   "cell_type": "markdown",
   "id": "701220fc",
   "metadata": {},
   "source": [
    "- There is a slight difference between retention rate after 1 day of version gate_30 and gate_40. There were more 0.6% of users  remaining in version gate_40. But this percentage is too small to tell anything about the impact of moving from gate_30 to gate_40.  \n",
    "- Besides, that players did not return after playing for one day doesn't really tell anything about the impact of moving gate from 30 to 40. It's a high chance that most of them did not reach stage 30 on the first day of playing.    "
   ]
  },
  {
   "cell_type": "code",
   "execution_count": 22,
   "id": "c0ed6f14",
   "metadata": {},
   "outputs": [
    {
     "data": {
      "text/html": [
       "<div>\n",
       "<style scoped>\n",
       "    .dataframe tbody tr th:only-of-type {\n",
       "        vertical-align: middle;\n",
       "    }\n",
       "\n",
       "    .dataframe tbody tr th {\n",
       "        vertical-align: top;\n",
       "    }\n",
       "\n",
       "    .dataframe thead th {\n",
       "        text-align: right;\n",
       "    }\n",
       "</style>\n",
       "<table border=\"1\" class=\"dataframe\">\n",
       "  <thead>\n",
       "    <tr style=\"text-align: right;\">\n",
       "      <th></th>\n",
       "      <th>version</th>\n",
       "      <th>retention_1</th>\n",
       "      <th>Total_Users</th>\n",
       "    </tr>\n",
       "  </thead>\n",
       "  <tbody>\n",
       "    <tr>\n",
       "      <th>0</th>\n",
       "      <td>gate_30</td>\n",
       "      <td>False</td>\n",
       "      <td>24665</td>\n",
       "    </tr>\n",
       "    <tr>\n",
       "      <th>1</th>\n",
       "      <td>gate_30</td>\n",
       "      <td>True</td>\n",
       "      <td>20034</td>\n",
       "    </tr>\n",
       "    <tr>\n",
       "      <th>2</th>\n",
       "      <td>gate_40</td>\n",
       "      <td>False</td>\n",
       "      <td>25370</td>\n",
       "    </tr>\n",
       "    <tr>\n",
       "      <th>3</th>\n",
       "      <td>gate_40</td>\n",
       "      <td>True</td>\n",
       "      <td>20119</td>\n",
       "    </tr>\n",
       "  </tbody>\n",
       "</table>\n",
       "</div>"
      ],
      "text/plain": [
       "   version  retention_1  Total_Users\n",
       "0  gate_30        False        24665\n",
       "1  gate_30         True        20034\n",
       "2  gate_40        False        25370\n",
       "3  gate_40         True        20119"
      ]
     },
     "execution_count": 22,
     "metadata": {},
     "output_type": "execute_result"
    },
    {
     "data": {
      "application/javascript": [
       "\n",
       "            setTimeout(function() {\n",
       "                var nbb_cell_id = 22;\n",
       "                var nbb_unformatted_code = \"# Calculate %retention1 rate in each version\\ndf2_reten1 = (\\n    df2.groupby([\\\"version\\\", \\\"retention_1\\\"])\\n    .agg({\\\"userid\\\": \\\"count\\\"})\\n    .rename(columns={\\\"userid\\\": \\\"Total_Users\\\"})\\n    .reset_index()\\n)\\ndf2_reten1\";\n",
       "                var nbb_formatted_code = \"# Calculate %retention1 rate in each version\\ndf2_reten1 = (\\n    df2.groupby([\\\"version\\\", \\\"retention_1\\\"])\\n    .agg({\\\"userid\\\": \\\"count\\\"})\\n    .rename(columns={\\\"userid\\\": \\\"Total_Users\\\"})\\n    .reset_index()\\n)\\ndf2_reten1\";\n",
       "                var nbb_cells = Jupyter.notebook.get_cells();\n",
       "                for (var i = 0; i < nbb_cells.length; ++i) {\n",
       "                    if (nbb_cells[i].input_prompt_number == nbb_cell_id) {\n",
       "                        if (nbb_cells[i].get_text() == nbb_unformatted_code) {\n",
       "                             nbb_cells[i].set_text(nbb_formatted_code);\n",
       "                        }\n",
       "                        break;\n",
       "                    }\n",
       "                }\n",
       "            }, 500);\n",
       "            "
      ],
      "text/plain": [
       "<IPython.core.display.Javascript object>"
      ]
     },
     "metadata": {},
     "output_type": "display_data"
    }
   ],
   "source": [
    "# Calculate %retention1 rate in each version\n",
    "df2_reten1 = (\n",
    "    df2.groupby([\"version\", \"retention_1\"])\n",
    "    .agg({\"userid\": \"count\"})\n",
    "    .rename(columns={\"userid\": \"Total_Users\"})\n",
    "    .reset_index()\n",
    ")\n",
    "df2_reten1"
   ]
  },
  {
   "cell_type": "code",
   "execution_count": 23,
   "id": "77b712f2",
   "metadata": {},
   "outputs": [
    {
     "data": {
      "text/html": [
       "<div>\n",
       "<style scoped>\n",
       "    .dataframe tbody tr th:only-of-type {\n",
       "        vertical-align: middle;\n",
       "    }\n",
       "\n",
       "    .dataframe tbody tr th {\n",
       "        vertical-align: top;\n",
       "    }\n",
       "\n",
       "    .dataframe thead tr th {\n",
       "        text-align: left;\n",
       "    }\n",
       "\n",
       "    .dataframe thead tr:last-of-type th {\n",
       "        text-align: right;\n",
       "    }\n",
       "</style>\n",
       "<table border=\"1\" class=\"dataframe\">\n",
       "  <thead>\n",
       "    <tr>\n",
       "      <th></th>\n",
       "      <th colspan=\"3\" halign=\"left\">sum</th>\n",
       "    </tr>\n",
       "    <tr>\n",
       "      <th>retention_1</th>\n",
       "      <th>False</th>\n",
       "      <th>True</th>\n",
       "      <th>All</th>\n",
       "    </tr>\n",
       "    <tr>\n",
       "      <th>version</th>\n",
       "      <th></th>\n",
       "      <th></th>\n",
       "      <th></th>\n",
       "    </tr>\n",
       "  </thead>\n",
       "  <tbody>\n",
       "    <tr>\n",
       "      <th>gate_30</th>\n",
       "      <td>24665</td>\n",
       "      <td>20034</td>\n",
       "      <td>44699</td>\n",
       "    </tr>\n",
       "    <tr>\n",
       "      <th>gate_40</th>\n",
       "      <td>25370</td>\n",
       "      <td>20119</td>\n",
       "      <td>45489</td>\n",
       "    </tr>\n",
       "    <tr>\n",
       "      <th>All</th>\n",
       "      <td>50035</td>\n",
       "      <td>40153</td>\n",
       "      <td>90188</td>\n",
       "    </tr>\n",
       "  </tbody>\n",
       "</table>\n",
       "</div>"
      ],
      "text/plain": [
       "               sum              \n",
       "retention_1  False   True    All\n",
       "version                         \n",
       "gate_30      24665  20034  44699\n",
       "gate_40      25370  20119  45489\n",
       "All          50035  40153  90188"
      ]
     },
     "execution_count": 23,
     "metadata": {},
     "output_type": "execute_result"
    },
    {
     "data": {
      "application/javascript": [
       "\n",
       "            setTimeout(function() {\n",
       "                var nbb_cell_id = 23;\n",
       "                var nbb_unformatted_code = \"pivot = np.round(\\n    pd.pivot_table(\\n        df2_reten1,\\n        values=\\\"Total_Users\\\",\\n        index=[\\\"version\\\"],\\n        columns=[\\\"retention_1\\\"],\\n        aggfunc=[np.sum],\\n        margins=True,\\n        fill_value=0,\\n    ),\\n    2,\\n)\\npivot\";\n",
       "                var nbb_formatted_code = \"pivot = np.round(\\n    pd.pivot_table(\\n        df2_reten1,\\n        values=\\\"Total_Users\\\",\\n        index=[\\\"version\\\"],\\n        columns=[\\\"retention_1\\\"],\\n        aggfunc=[np.sum],\\n        margins=True,\\n        fill_value=0,\\n    ),\\n    2,\\n)\\npivot\";\n",
       "                var nbb_cells = Jupyter.notebook.get_cells();\n",
       "                for (var i = 0; i < nbb_cells.length; ++i) {\n",
       "                    if (nbb_cells[i].input_prompt_number == nbb_cell_id) {\n",
       "                        if (nbb_cells[i].get_text() == nbb_unformatted_code) {\n",
       "                             nbb_cells[i].set_text(nbb_formatted_code);\n",
       "                        }\n",
       "                        break;\n",
       "                    }\n",
       "                }\n",
       "            }, 500);\n",
       "            "
      ],
      "text/plain": [
       "<IPython.core.display.Javascript object>"
      ]
     },
     "metadata": {},
     "output_type": "display_data"
    }
   ],
   "source": [
    "pivot = np.round(\n",
    "    pd.pivot_table(\n",
    "        df2_reten1,\n",
    "        values=\"Total_Users\",\n",
    "        index=[\"version\"],\n",
    "        columns=[\"retention_1\"],\n",
    "        aggfunc=[np.sum],\n",
    "        margins=True,\n",
    "        fill_value=0,\n",
    "    ),\n",
    "    2,\n",
    ")\n",
    "pivot"
   ]
  },
  {
   "cell_type": "code",
   "execution_count": 24,
   "id": "39b4fc08",
   "metadata": {},
   "outputs": [
    {
     "data": {
      "application/javascript": [
       "\n",
       "            setTimeout(function() {\n",
       "                var nbb_cell_id = 24;\n",
       "                var nbb_unformatted_code = \"df2_reten1[\\\"%retention_1\\\"] = np.where(\\n    df2_reten1[\\\"version\\\"] == \\\"gate_30\\\",\\n    (df2_reten1.Total_Users / 44699 * 100).round(3),\\n    (df2_reten1.Total_Users / 45489 * 100).round(3),\\n)\";\n",
       "                var nbb_formatted_code = \"df2_reten1[\\\"%retention_1\\\"] = np.where(\\n    df2_reten1[\\\"version\\\"] == \\\"gate_30\\\",\\n    (df2_reten1.Total_Users / 44699 * 100).round(3),\\n    (df2_reten1.Total_Users / 45489 * 100).round(3),\\n)\";\n",
       "                var nbb_cells = Jupyter.notebook.get_cells();\n",
       "                for (var i = 0; i < nbb_cells.length; ++i) {\n",
       "                    if (nbb_cells[i].input_prompt_number == nbb_cell_id) {\n",
       "                        if (nbb_cells[i].get_text() == nbb_unformatted_code) {\n",
       "                             nbb_cells[i].set_text(nbb_formatted_code);\n",
       "                        }\n",
       "                        break;\n",
       "                    }\n",
       "                }\n",
       "            }, 500);\n",
       "            "
      ],
      "text/plain": [
       "<IPython.core.display.Javascript object>"
      ]
     },
     "metadata": {},
     "output_type": "display_data"
    }
   ],
   "source": [
    "df2_reten1[\"%retention_1\"] = np.where(\n",
    "    df2_reten1[\"version\"] == \"gate_30\",\n",
    "    (df2_reten1.Total_Users / 44699 * 100).round(3),\n",
    "    (df2_reten1.Total_Users / 45489 * 100).round(3),\n",
    ")"
   ]
  },
  {
   "cell_type": "code",
   "execution_count": 25,
   "id": "613ab4e4",
   "metadata": {
    "scrolled": true
   },
   "outputs": [
    {
     "data": {
      "text/html": [
       "<div>\n",
       "<style scoped>\n",
       "    .dataframe tbody tr th:only-of-type {\n",
       "        vertical-align: middle;\n",
       "    }\n",
       "\n",
       "    .dataframe tbody tr th {\n",
       "        vertical-align: top;\n",
       "    }\n",
       "\n",
       "    .dataframe thead th {\n",
       "        text-align: right;\n",
       "    }\n",
       "</style>\n",
       "<table border=\"1\" class=\"dataframe\">\n",
       "  <thead>\n",
       "    <tr style=\"text-align: right;\">\n",
       "      <th></th>\n",
       "      <th>version</th>\n",
       "      <th>retention_1</th>\n",
       "      <th>Total_Users</th>\n",
       "      <th>%retention_1</th>\n",
       "    </tr>\n",
       "  </thead>\n",
       "  <tbody>\n",
       "    <tr>\n",
       "      <th>0</th>\n",
       "      <td>gate_30</td>\n",
       "      <td>False</td>\n",
       "      <td>24665</td>\n",
       "      <td>55.180</td>\n",
       "    </tr>\n",
       "    <tr>\n",
       "      <th>1</th>\n",
       "      <td>gate_30</td>\n",
       "      <td>True</td>\n",
       "      <td>20034</td>\n",
       "      <td>44.820</td>\n",
       "    </tr>\n",
       "    <tr>\n",
       "      <th>2</th>\n",
       "      <td>gate_40</td>\n",
       "      <td>False</td>\n",
       "      <td>25370</td>\n",
       "      <td>55.772</td>\n",
       "    </tr>\n",
       "    <tr>\n",
       "      <th>3</th>\n",
       "      <td>gate_40</td>\n",
       "      <td>True</td>\n",
       "      <td>20119</td>\n",
       "      <td>44.228</td>\n",
       "    </tr>\n",
       "  </tbody>\n",
       "</table>\n",
       "</div>"
      ],
      "text/plain": [
       "   version  retention_1  Total_Users  %retention_1\n",
       "0  gate_30        False        24665        55.180\n",
       "1  gate_30         True        20034        44.820\n",
       "2  gate_40        False        25370        55.772\n",
       "3  gate_40         True        20119        44.228"
      ]
     },
     "execution_count": 25,
     "metadata": {},
     "output_type": "execute_result"
    },
    {
     "data": {
      "application/javascript": [
       "\n",
       "            setTimeout(function() {\n",
       "                var nbb_cell_id = 25;\n",
       "                var nbb_unformatted_code = \"df2_reten1\";\n",
       "                var nbb_formatted_code = \"df2_reten1\";\n",
       "                var nbb_cells = Jupyter.notebook.get_cells();\n",
       "                for (var i = 0; i < nbb_cells.length; ++i) {\n",
       "                    if (nbb_cells[i].input_prompt_number == nbb_cell_id) {\n",
       "                        if (nbb_cells[i].get_text() == nbb_unformatted_code) {\n",
       "                             nbb_cells[i].set_text(nbb_formatted_code);\n",
       "                        }\n",
       "                        break;\n",
       "                    }\n",
       "                }\n",
       "            }, 500);\n",
       "            "
      ],
      "text/plain": [
       "<IPython.core.display.Javascript object>"
      ]
     },
     "metadata": {},
     "output_type": "display_data"
    }
   ],
   "source": [
    "df2_reten1"
   ]
  },
  {
   "cell_type": "code",
   "execution_count": 26,
   "id": "fb69c350",
   "metadata": {},
   "outputs": [
    {
     "data": {
      "text/plain": [
       "<AxesSubplot:xlabel='version'>"
      ]
     },
     "execution_count": 26,
     "metadata": {},
     "output_type": "execute_result"
    },
    {
     "data": {
      "image/png": "[encoded data removed]",
      "text/plain": [
       "<Figure size 432x288 with 1 Axes>"
      ]
     },
     "metadata": {},
     "output_type": "display_data"
    },
    {
     "data": {
      "application/javascript": [
       "\n",
       "            setTimeout(function() {\n",
       "                var nbb_cell_id = 26;\n",
       "                var nbb_unformatted_code = \"pivot2 = np.round(\\n    pd.pivot_table(\\n        df2_reten1,\\n        values=\\\"%retention_1\\\",\\n        index=[\\\"version\\\"],\\n        columns=[\\\"retention_1\\\"],\\n        aggfunc=[np.sum],\\n        fill_value=0,\\n    ),\\n    2,\\n)\\npivot2\\n\\npivot2.plot(kind=\\\"bar\\\", stacked=\\\"True\\\", color=[\\\"purple\\\", \\\"pink\\\"])\";\n",
       "                var nbb_formatted_code = \"pivot2 = np.round(\\n    pd.pivot_table(\\n        df2_reten1,\\n        values=\\\"%retention_1\\\",\\n        index=[\\\"version\\\"],\\n        columns=[\\\"retention_1\\\"],\\n        aggfunc=[np.sum],\\n        fill_value=0,\\n    ),\\n    2,\\n)\\npivot2\\n\\npivot2.plot(kind=\\\"bar\\\", stacked=\\\"True\\\", color=[\\\"purple\\\", \\\"pink\\\"])\";\n",
       "                var nbb_cells = Jupyter.notebook.get_cells();\n",
       "                for (var i = 0; i < nbb_cells.length; ++i) {\n",
       "                    if (nbb_cells[i].input_prompt_number == nbb_cell_id) {\n",
       "                        if (nbb_cells[i].get_text() == nbb_unformatted_code) {\n",
       "                             nbb_cells[i].set_text(nbb_formatted_code);\n",
       "                        }\n",
       "                        break;\n",
       "                    }\n",
       "                }\n",
       "            }, 500);\n",
       "            "
      ],
      "text/plain": [
       "<IPython.core.display.Javascript object>"
      ]
     },
     "metadata": {},
     "output_type": "display_data"
    }
   ],
   "source": [
    "pivot2 = np.round(\n",
    "    pd.pivot_table(\n",
    "        df2_reten1,\n",
    "        values=\"%retention_1\",\n",
    "        index=[\"version\"],\n",
    "        columns=[\"retention_1\"],\n",
    "        aggfunc=[np.sum],\n",
    "        fill_value=0,\n",
    "    ),\n",
    "    2,\n",
    ")\n",
    "pivot2\n",
    "\n",
    "pivot2.plot(kind=\"bar\", stacked=\"True\", color=[\"purple\", \"pink\"])"
   ]
  },
  {
   "cell_type": "markdown",
   "id": "77ca1ea2",
   "metadata": {},
   "source": [
    "## <font color='Purple'> Part 5. 7-day Retention Insight </font>  <a name= '5'></a>"
   ]
  },
  {
   "cell_type": "code",
   "execution_count": 28,
   "id": "d9fec9c7",
   "metadata": {},
   "outputs": [
    {
     "data": {
      "text/html": [
       "<div>\n",
       "<style scoped>\n",
       "    .dataframe tbody tr th:only-of-type {\n",
       "        vertical-align: middle;\n",
       "    }\n",
       "\n",
       "    .dataframe tbody tr th {\n",
       "        vertical-align: top;\n",
       "    }\n",
       "\n",
       "    .dataframe thead th {\n",
       "        text-align: right;\n",
       "    }\n",
       "</style>\n",
       "<table border=\"1\" class=\"dataframe\">\n",
       "  <thead>\n",
       "    <tr style=\"text-align: right;\">\n",
       "      <th></th>\n",
       "      <th>version</th>\n",
       "      <th>retention_7</th>\n",
       "      <th>Total_Users</th>\n",
       "    </tr>\n",
       "  </thead>\n",
       "  <tbody>\n",
       "    <tr>\n",
       "      <th>0</th>\n",
       "      <td>gate_30</td>\n",
       "      <td>False</td>\n",
       "      <td>36198</td>\n",
       "    </tr>\n",
       "    <tr>\n",
       "      <th>1</th>\n",
       "      <td>gate_30</td>\n",
       "      <td>True</td>\n",
       "      <td>8501</td>\n",
       "    </tr>\n",
       "    <tr>\n",
       "      <th>2</th>\n",
       "      <td>gate_40</td>\n",
       "      <td>False</td>\n",
       "      <td>37210</td>\n",
       "    </tr>\n",
       "    <tr>\n",
       "      <th>3</th>\n",
       "      <td>gate_40</td>\n",
       "      <td>True</td>\n",
       "      <td>8279</td>\n",
       "    </tr>\n",
       "  </tbody>\n",
       "</table>\n",
       "</div>"
      ],
      "text/plain": [
       "   version  retention_7  Total_Users\n",
       "0  gate_30        False        36198\n",
       "1  gate_30         True         8501\n",
       "2  gate_40        False        37210\n",
       "3  gate_40         True         8279"
      ]
     },
     "execution_count": 28,
     "metadata": {},
     "output_type": "execute_result"
    },
    {
     "data": {
      "application/javascript": [
       "\n",
       "            setTimeout(function() {\n",
       "                var nbb_cell_id = 28;\n",
       "                var nbb_unformatted_code = \"# Calculate %retention1 rate in each version\\ndf2_reten7 = (\\n    df2.groupby([\\\"version\\\", \\\"retention_7\\\"])\\n    .agg({\\\"userid\\\": \\\"count\\\"})\\n    .rename(columns={\\\"userid\\\": \\\"Total_Users\\\"})\\n    .reset_index()\\n)\\ndf2_reten7\";\n",
       "                var nbb_formatted_code = \"# Calculate %retention1 rate in each version\\ndf2_reten7 = (\\n    df2.groupby([\\\"version\\\", \\\"retention_7\\\"])\\n    .agg({\\\"userid\\\": \\\"count\\\"})\\n    .rename(columns={\\\"userid\\\": \\\"Total_Users\\\"})\\n    .reset_index()\\n)\\ndf2_reten7\";\n",
       "                var nbb_cells = Jupyter.notebook.get_cells();\n",
       "                for (var i = 0; i < nbb_cells.length; ++i) {\n",
       "                    if (nbb_cells[i].input_prompt_number == nbb_cell_id) {\n",
       "                        if (nbb_cells[i].get_text() == nbb_unformatted_code) {\n",
       "                             nbb_cells[i].set_text(nbb_formatted_code);\n",
       "                        }\n",
       "                        break;\n",
       "                    }\n",
       "                }\n",
       "            }, 500);\n",
       "            "
      ],
      "text/plain": [
       "<IPython.core.display.Javascript object>"
      ]
     },
     "metadata": {},
     "output_type": "display_data"
    }
   ],
   "source": [
    "# Calculate %retention1 rate in each version\n",
    "df2_reten7 = (\n",
    "    df2.groupby([\"version\", \"retention_7\"])\n",
    "    .agg({\"userid\": \"count\"})\n",
    "    .rename(columns={\"userid\": \"Total_Users\"})\n",
    "    .reset_index()\n",
    ")\n",
    "df2_reten7"
   ]
  },
  {
   "cell_type": "code",
   "execution_count": 30,
   "id": "befce758",
   "metadata": {},
   "outputs": [
    {
     "data": {
      "text/html": [
       "<div>\n",
       "<style scoped>\n",
       "    .dataframe tbody tr th:only-of-type {\n",
       "        vertical-align: middle;\n",
       "    }\n",
       "\n",
       "    .dataframe tbody tr th {\n",
       "        vertical-align: top;\n",
       "    }\n",
       "\n",
       "    .dataframe thead tr th {\n",
       "        text-align: left;\n",
       "    }\n",
       "\n",
       "    .dataframe thead tr:last-of-type th {\n",
       "        text-align: right;\n",
       "    }\n",
       "</style>\n",
       "<table border=\"1\" class=\"dataframe\">\n",
       "  <thead>\n",
       "    <tr>\n",
       "      <th></th>\n",
       "      <th colspan=\"3\" halign=\"left\">sum</th>\n",
       "    </tr>\n",
       "    <tr>\n",
       "      <th>retention_7</th>\n",
       "      <th>False</th>\n",
       "      <th>True</th>\n",
       "      <th>All</th>\n",
       "    </tr>\n",
       "    <tr>\n",
       "      <th>version</th>\n",
       "      <th></th>\n",
       "      <th></th>\n",
       "      <th></th>\n",
       "    </tr>\n",
       "  </thead>\n",
       "  <tbody>\n",
       "    <tr>\n",
       "      <th>gate_30</th>\n",
       "      <td>36198</td>\n",
       "      <td>8501</td>\n",
       "      <td>44699</td>\n",
       "    </tr>\n",
       "    <tr>\n",
       "      <th>gate_40</th>\n",
       "      <td>37210</td>\n",
       "      <td>8279</td>\n",
       "      <td>45489</td>\n",
       "    </tr>\n",
       "    <tr>\n",
       "      <th>All</th>\n",
       "      <td>73408</td>\n",
       "      <td>16780</td>\n",
       "      <td>90188</td>\n",
       "    </tr>\n",
       "  </tbody>\n",
       "</table>\n",
       "</div>"
      ],
      "text/plain": [
       "               sum              \n",
       "retention_7  False   True    All\n",
       "version                         \n",
       "gate_30      36198   8501  44699\n",
       "gate_40      37210   8279  45489\n",
       "All          73408  16780  90188"
      ]
     },
     "execution_count": 30,
     "metadata": {},
     "output_type": "execute_result"
    },
    {
     "data": {
      "application/javascript": [
       "\n",
       "            setTimeout(function() {\n",
       "                var nbb_cell_id = 30;\n",
       "                var nbb_unformatted_code = \"pivot_7 = np.round(\\n    pd.pivot_table(\\n        df2_reten7,\\n        values=\\\"Total_Users\\\",\\n        index=[\\\"version\\\"],\\n        columns=[\\\"retention_7\\\"],\\n        aggfunc=[np.sum],\\n        margins=True,\\n        fill_value=0,\\n    ),\\n    2,\\n)\\npivot_7\";\n",
       "                var nbb_formatted_code = \"pivot_7 = np.round(\\n    pd.pivot_table(\\n        df2_reten7,\\n        values=\\\"Total_Users\\\",\\n        index=[\\\"version\\\"],\\n        columns=[\\\"retention_7\\\"],\\n        aggfunc=[np.sum],\\n        margins=True,\\n        fill_value=0,\\n    ),\\n    2,\\n)\\npivot_7\";\n",
       "                var nbb_cells = Jupyter.notebook.get_cells();\n",
       "                for (var i = 0; i < nbb_cells.length; ++i) {\n",
       "                    if (nbb_cells[i].input_prompt_number == nbb_cell_id) {\n",
       "                        if (nbb_cells[i].get_text() == nbb_unformatted_code) {\n",
       "                             nbb_cells[i].set_text(nbb_formatted_code);\n",
       "                        }\n",
       "                        break;\n",
       "                    }\n",
       "                }\n",
       "            }, 500);\n",
       "            "
      ],
      "text/plain": [
       "<IPython.core.display.Javascript object>"
      ]
     },
     "metadata": {},
     "output_type": "display_data"
    }
   ],
   "source": [
    "pivot_7 = np.round(\n",
    "    pd.pivot_table(\n",
    "        df2_reten7,\n",
    "        values=\"Total_Users\",\n",
    "        index=[\"version\"],\n",
    "        columns=[\"retention_7\"],\n",
    "        aggfunc=[np.sum],\n",
    "        margins=True,\n",
    "        fill_value=0,\n",
    "    ),\n",
    "    2,\n",
    ")\n",
    "pivot_7"
   ]
  },
  {
   "cell_type": "code",
   "execution_count": 31,
   "id": "315fc551",
   "metadata": {},
   "outputs": [
    {
     "data": {
      "application/javascript": [
       "\n",
       "            setTimeout(function() {\n",
       "                var nbb_cell_id = 31;\n",
       "                var nbb_unformatted_code = \"df2_reten7[\\\"%retention_7\\\"] = np.where(\\n    df2_reten1[\\\"version\\\"] == \\\"gate_30\\\",\\n    (df2_reten7.Total_Users / 44699 * 100).round(3),\\n    (df2_reten7.Total_Users / 45489 * 100).round(3),\\n)\";\n",
       "                var nbb_formatted_code = \"df2_reten7[\\\"%retention_7\\\"] = np.where(\\n    df2_reten1[\\\"version\\\"] == \\\"gate_30\\\",\\n    (df2_reten7.Total_Users / 44699 * 100).round(3),\\n    (df2_reten7.Total_Users / 45489 * 100).round(3),\\n)\";\n",
       "                var nbb_cells = Jupyter.notebook.get_cells();\n",
       "                for (var i = 0; i < nbb_cells.length; ++i) {\n",
       "                    if (nbb_cells[i].input_prompt_number == nbb_cell_id) {\n",
       "                        if (nbb_cells[i].get_text() == nbb_unformatted_code) {\n",
       "                             nbb_cells[i].set_text(nbb_formatted_code);\n",
       "                        }\n",
       "                        break;\n",
       "                    }\n",
       "                }\n",
       "            }, 500);\n",
       "            "
      ],
      "text/plain": [
       "<IPython.core.display.Javascript object>"
      ]
     },
     "metadata": {},
     "output_type": "display_data"
    }
   ],
   "source": [
    "df2_reten7[\"%retention_7\"] = np.where(\n",
    "    df2_reten1[\"version\"] == \"gate_30\",\n",
    "    (df2_reten7.Total_Users / 44699 * 100).round(3),\n",
    "    (df2_reten7.Total_Users / 45489 * 100).round(3),\n",
    ")"
   ]
  },
  {
   "cell_type": "code",
   "execution_count": 32,
   "id": "89157b3c",
   "metadata": {},
   "outputs": [
    {
     "data": {
      "text/html": [
       "<div>\n",
       "<style scoped>\n",
       "    .dataframe tbody tr th:only-of-type {\n",
       "        vertical-align: middle;\n",
       "    }\n",
       "\n",
       "    .dataframe tbody tr th {\n",
       "        vertical-align: top;\n",
       "    }\n",
       "\n",
       "    .dataframe thead th {\n",
       "        text-align: right;\n",
       "    }\n",
       "</style>\n",
       "<table border=\"1\" class=\"dataframe\">\n",
       "  <thead>\n",
       "    <tr style=\"text-align: right;\">\n",
       "      <th></th>\n",
       "      <th>version</th>\n",
       "      <th>retention_7</th>\n",
       "      <th>Total_Users</th>\n",
       "      <th>%retention_7</th>\n",
       "    </tr>\n",
       "  </thead>\n",
       "  <tbody>\n",
       "    <tr>\n",
       "      <th>0</th>\n",
       "      <td>gate_30</td>\n",
       "      <td>False</td>\n",
       "      <td>36198</td>\n",
       "      <td>80.982</td>\n",
       "    </tr>\n",
       "    <tr>\n",
       "      <th>1</th>\n",
       "      <td>gate_30</td>\n",
       "      <td>True</td>\n",
       "      <td>8501</td>\n",
       "      <td>19.018</td>\n",
       "    </tr>\n",
       "    <tr>\n",
       "      <th>2</th>\n",
       "      <td>gate_40</td>\n",
       "      <td>False</td>\n",
       "      <td>37210</td>\n",
       "      <td>81.800</td>\n",
       "    </tr>\n",
       "    <tr>\n",
       "      <th>3</th>\n",
       "      <td>gate_40</td>\n",
       "      <td>True</td>\n",
       "      <td>8279</td>\n",
       "      <td>18.200</td>\n",
       "    </tr>\n",
       "  </tbody>\n",
       "</table>\n",
       "</div>"
      ],
      "text/plain": [
       "   version  retention_7  Total_Users  %retention_7\n",
       "0  gate_30        False        36198        80.982\n",
       "1  gate_30         True         8501        19.018\n",
       "2  gate_40        False        37210        81.800\n",
       "3  gate_40         True         8279        18.200"
      ]
     },
     "execution_count": 32,
     "metadata": {},
     "output_type": "execute_result"
    },
    {
     "data": {
      "application/javascript": [
       "\n",
       "            setTimeout(function() {\n",
       "                var nbb_cell_id = 32;\n",
       "                var nbb_unformatted_code = \"df2_reten7\";\n",
       "                var nbb_formatted_code = \"df2_reten7\";\n",
       "                var nbb_cells = Jupyter.notebook.get_cells();\n",
       "                for (var i = 0; i < nbb_cells.length; ++i) {\n",
       "                    if (nbb_cells[i].input_prompt_number == nbb_cell_id) {\n",
       "                        if (nbb_cells[i].get_text() == nbb_unformatted_code) {\n",
       "                             nbb_cells[i].set_text(nbb_formatted_code);\n",
       "                        }\n",
       "                        break;\n",
       "                    }\n",
       "                }\n",
       "            }, 500);\n",
       "            "
      ],
      "text/plain": [
       "<IPython.core.display.Javascript object>"
      ]
     },
     "metadata": {},
     "output_type": "display_data"
    }
   ],
   "source": [
    "df2_reten7"
   ]
  },
  {
   "cell_type": "markdown",
   "id": "7c06d5d9",
   "metadata": {},
   "source": [
    "- Looking at the table above, it can be seen that user retention after 7 days in version gate_30 is 1% higher than user retention in gate_40 version.  \n",
    "- To see this pattern clearer, I will apply bootstrap analysis to figure out how certain we should be of the difference between the AB-groups. \n",
    "- After doing the bootstrap to resample 519 times, we have 99% probability that **7-day retention is greater when the gate is at level 30** \n"
   ]
  },
  {
   "cell_type": "code",
   "execution_count": 47,
   "id": "5baf98d0",
   "metadata": {
    "scrolled": false
   },
   "outputs": [
    {
     "data": {
      "application/javascript": [
       "\n",
       "            setTimeout(function() {\n",
       "                var nbb_cell_id = 47;\n",
       "                var nbb_unformatted_code = \"# Creating a list with bootstrapped means for each AB-group\\nbootstrap_7 = []\\nfor i in range(519):\\n    mean_retention_percent = (\\n        df2.sample(frac=1, replace=True).groupby(\\\"version\\\")[\\\"retention_7\\\"].mean()\\n    )\\n    bootstrap_7.append(mean_retention_percent)\\n\\nbootstrap_7 = pd.DataFrame(bootstrap_7)\\nbootstrap_7[\\\"difference\\\"] = bootstrap_7[\\\"gate_30\\\"] - bootstrap_7[\\\"gate_40\\\"]\";\n",
       "                var nbb_formatted_code = \"# Creating a list with bootstrapped means for each AB-group\\nbootstrap_7 = []\\nfor i in range(519):\\n    mean_retention_percent = (\\n        df2.sample(frac=1, replace=True).groupby(\\\"version\\\")[\\\"retention_7\\\"].mean()\\n    )\\n    bootstrap_7.append(mean_retention_percent)\\n\\nbootstrap_7 = pd.DataFrame(bootstrap_7)\\nbootstrap_7[\\\"difference\\\"] = bootstrap_7[\\\"gate_30\\\"] - bootstrap_7[\\\"gate_40\\\"]\";\n",
       "                var nbb_cells = Jupyter.notebook.get_cells();\n",
       "                for (var i = 0; i < nbb_cells.length; ++i) {\n",
       "                    if (nbb_cells[i].input_prompt_number == nbb_cell_id) {\n",
       "                        if (nbb_cells[i].get_text() == nbb_unformatted_code) {\n",
       "                             nbb_cells[i].set_text(nbb_formatted_code);\n",
       "                        }\n",
       "                        break;\n",
       "                    }\n",
       "                }\n",
       "            }, 500);\n",
       "            "
      ],
      "text/plain": [
       "<IPython.core.display.Javascript object>"
      ]
     },
     "metadata": {},
     "output_type": "display_data"
    }
   ],
   "source": [
    "# Creating a list with bootstrapped means for each AB-group\n",
    "bootstrap_7 = []\n",
    "for i in range(519):\n",
    "    mean_retention_percent = (\n",
    "        df2.sample(frac=1, replace=True).groupby(\"version\")[\"retention_7\"].mean()\n",
    "    )\n",
    "    bootstrap_7.append(mean_retention_percent)\n",
    "\n",
    "bootstrap_7 = pd.DataFrame(bootstrap_7)\n",
    "bootstrap_7[\"difference\"] = bootstrap_7[\"gate_30\"] - bootstrap_7[\"gate_40\"]"
   ]
  },
  {
   "cell_type": "code",
   "execution_count": 63,
   "id": "2438313e",
   "metadata": {
    "scrolled": true
   },
   "outputs": [
    {
     "name": "stdout",
     "output_type": "stream",
     "text": [
      "Probability that 7-day retention is greater when the gate is at level 30: 0.9980732177263969\n"
     ]
    },
    {
     "data": {
      "image/png": "[encoded data removed]",
      "text/plain": [
       "<Figure size 936x432 with 1 Axes>"
      ]
     },
     "metadata": {},
     "output_type": "display_data"
    },
    {
     "data": {
      "application/javascript": [
       "\n",
       "            setTimeout(function() {\n",
       "                var nbb_cell_id = 63;\n",
       "                var nbb_unformatted_code = \"# Ploting the bootstrap % difference\\nfig, ax = plt.subplots(figsize=(13, 6))\\nax = bootstrap_7[\\\"difference\\\"].plot(kind=\\\"density\\\", color=\\\"purple\\\")\\nax.set_title(\\n    \\\"% difference in 7-day retention between gate_30 and gate_40 version\\\",\\n    fontsize=15,\\n    weight=\\\"bold\\\",\\n)\\n\\n# Calculating the probability that 7-day retention is greater when the gate is at level 30\\nprint(\\n    \\\"Probability that 7-day retention is greater when the gate is at level 30:\\\",\\n    (bootstrap_7[\\\"difference\\\"] > 0).mean(),\\n)\";\n",
       "                var nbb_formatted_code = \"# Ploting the bootstrap % difference\\nfig, ax = plt.subplots(figsize=(13, 6))\\nax = bootstrap_7[\\\"difference\\\"].plot(kind=\\\"density\\\", color=\\\"purple\\\")\\nax.set_title(\\n    \\\"% difference in 7-day retention between gate_30 and gate_40 version\\\",\\n    fontsize=15,\\n    weight=\\\"bold\\\",\\n)\\n\\n# Calculating the probability that 7-day retention is greater when the gate is at level 30\\nprint(\\n    \\\"Probability that 7-day retention is greater when the gate is at level 30:\\\",\\n    (bootstrap_7[\\\"difference\\\"] > 0).mean(),\\n)\";\n",
       "                var nbb_cells = Jupyter.notebook.get_cells();\n",
       "                for (var i = 0; i < nbb_cells.length; ++i) {\n",
       "                    if (nbb_cells[i].input_prompt_number == nbb_cell_id) {\n",
       "                        if (nbb_cells[i].get_text() == nbb_unformatted_code) {\n",
       "                             nbb_cells[i].set_text(nbb_formatted_code);\n",
       "                        }\n",
       "                        break;\n",
       "                    }\n",
       "                }\n",
       "            }, 500);\n",
       "            "
      ],
      "text/plain": [
       "<IPython.core.display.Javascript object>"
      ]
     },
     "metadata": {},
     "output_type": "display_data"
    }
   ],
   "source": [
    "# Ploting the bootstrap % difference\n",
    "fig, ax = plt.subplots(figsize=(13, 6))\n",
    "ax = bootstrap_7[\"difference\"].plot(kind=\"density\", color=\"purple\")\n",
    "ax.set_title(\n",
    "    \"% difference in 7-day retention between gate_30 and gate_40 version\",\n",
    "    fontsize=15,\n",
    "    weight=\"bold\",\n",
    ")\n",
    "\n",
    "# The probability that 7-day retention is greater when the gate is at level 30\n",
    "print(\n",
    "    \"Probability that 7-day retention is greater when the gate is at level 30:\",\n",
    "    (bootstrap_7[\"difference\"] > 0).mean(),\n",
    ")"
   ]
  },
  {
   "cell_type": "markdown",
   "id": "4650c037",
   "metadata": {},
   "source": [
    "##  <font color='Purple'> Part 6. Conclusion </font><a name= '6'></a>\n"
   ]
  },
  {
   "cell_type": "markdown",
   "id": "214f402b",
   "metadata": {},
   "source": [
    "- Users in version gate_30 seem to still remain interested in the game when coming to level 30, so they played the game immediately after waiting time or made the in-app purchase to continue. After 1 week, retention % of these users was not as high as version_40. In contrast, players in the gate_40 when coming to stage 40 would take a break and continue after (The number of 20% players returns after 7 days might be a piece of evidence for this statement). In other words, people passing stage 40 in the gate_40 version seem to have more commitment to the game"
   ]
  },
  {
   "cell_type": "markdown",
   "id": "183a4c98",
   "metadata": {},
   "source": [
    "- However, overall 7-day retention is greater when the gate is at level 30. Besides, as the game reached higher level, people seem to gradually lost interest in the game. Therefore, requiring players to take a break when they reach a gate will make their enjoyment of the game prolonged."
   ]
  },
  {
   "cell_type": "markdown",
   "id": "c536c8a7",
   "metadata": {},
   "source": [
    "- We should not move the limitation from gate 30 to gate 40. "
   ]
  }
 ],
 "metadata": {
  "kernelspec": {
   "display_name": "Python 3",
   "language": "python",
   "name": "python3"
  },
  "language_info": {
   "codemirror_mode": {
    "name": "ipython",
    "version": 3
   },
   "file_extension": ".py",
   "mimetype": "text/x-python",
   "name": "python",
   "nbconvert_exporter": "python",
   "pygments_lexer": "ipython3",
   "version": "3.8.8"
  }
 },
 "nbformat": 4,
 "nbformat_minor": 5
}
